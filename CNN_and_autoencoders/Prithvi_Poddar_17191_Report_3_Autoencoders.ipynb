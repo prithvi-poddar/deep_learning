{
  "nbformat": 4,
  "nbformat_minor": 0,
  "metadata": {
    "colab": {
      "name": "Prithvi_Poddar_17191_Report_3_Autoencoders.ipynb",
      "provenance": [],
      "collapsed_sections": []
    },
    "kernelspec": {
      "name": "python3",
      "display_name": "Python 3"
    },
    "accelerator": "GPU",
    "widgets": {
      "application/vnd.jupyter.widget-state+json": {
        "5064175a40e3437e853148996602cb68": {
          "model_module": "@jupyter-widgets/controls",
          "model_name": "HBoxModel",
          "state": {
            "_view_name": "HBoxView",
            "_dom_classes": [],
            "_model_name": "HBoxModel",
            "_view_module": "@jupyter-widgets/controls",
            "_model_module_version": "1.5.0",
            "_view_count": null,
            "_view_module_version": "1.5.0",
            "box_style": "",
            "layout": "IPY_MODEL_427af911bf2d44c8ad60de9567168698",
            "_model_module": "@jupyter-widgets/controls",
            "children": [
              "IPY_MODEL_ab48b77ed3b146888ffc22ff56b2fa07",
              "IPY_MODEL_b97332017c9042ccb2c7f156d933ec56"
            ]
          }
        },
        "427af911bf2d44c8ad60de9567168698": {
          "model_module": "@jupyter-widgets/base",
          "model_name": "LayoutModel",
          "state": {
            "_view_name": "LayoutView",
            "grid_template_rows": null,
            "right": null,
            "justify_content": null,
            "_view_module": "@jupyter-widgets/base",
            "overflow": null,
            "_model_module_version": "1.2.0",
            "_view_count": null,
            "flex_flow": null,
            "width": null,
            "min_width": null,
            "border": null,
            "align_items": null,
            "bottom": null,
            "_model_module": "@jupyter-widgets/base",
            "top": null,
            "grid_column": null,
            "overflow_y": null,
            "overflow_x": null,
            "grid_auto_flow": null,
            "grid_area": null,
            "grid_template_columns": null,
            "flex": null,
            "_model_name": "LayoutModel",
            "justify_items": null,
            "grid_row": null,
            "max_height": null,
            "align_content": null,
            "visibility": null,
            "align_self": null,
            "height": null,
            "min_height": null,
            "padding": null,
            "grid_auto_rows": null,
            "grid_gap": null,
            "max_width": null,
            "order": null,
            "_view_module_version": "1.2.0",
            "grid_template_areas": null,
            "object_position": null,
            "object_fit": null,
            "grid_auto_columns": null,
            "margin": null,
            "display": null,
            "left": null
          }
        },
        "ab48b77ed3b146888ffc22ff56b2fa07": {
          "model_module": "@jupyter-widgets/controls",
          "model_name": "FloatProgressModel",
          "state": {
            "_view_name": "ProgressView",
            "style": "IPY_MODEL_a6c4317cfaef40dfa6f38b294323a5fe",
            "_dom_classes": [],
            "description": "",
            "_model_name": "FloatProgressModel",
            "bar_style": "info",
            "max": 1,
            "_view_module": "@jupyter-widgets/controls",
            "_model_module_version": "1.5.0",
            "value": 1,
            "_view_count": null,
            "_view_module_version": "1.5.0",
            "orientation": "horizontal",
            "min": 0,
            "description_tooltip": null,
            "_model_module": "@jupyter-widgets/controls",
            "layout": "IPY_MODEL_efa4ac647f724f3fb9f6866c9f27d835"
          }
        },
        "b97332017c9042ccb2c7f156d933ec56": {
          "model_module": "@jupyter-widgets/controls",
          "model_name": "HTMLModel",
          "state": {
            "_view_name": "HTMLView",
            "style": "IPY_MODEL_95c7ca2edb1941c3b75260dbc4d5444a",
            "_dom_classes": [],
            "description": "",
            "_model_name": "HTMLModel",
            "placeholder": "​",
            "_view_module": "@jupyter-widgets/controls",
            "_model_module_version": "1.5.0",
            "value": " 9920512/? [00:20&lt;00:00, 1461921.27it/s]",
            "_view_count": null,
            "_view_module_version": "1.5.0",
            "description_tooltip": null,
            "_model_module": "@jupyter-widgets/controls",
            "layout": "IPY_MODEL_ea95afdb5e45400b906ea08b45a93898"
          }
        },
        "a6c4317cfaef40dfa6f38b294323a5fe": {
          "model_module": "@jupyter-widgets/controls",
          "model_name": "ProgressStyleModel",
          "state": {
            "_view_name": "StyleView",
            "_model_name": "ProgressStyleModel",
            "description_width": "initial",
            "_view_module": "@jupyter-widgets/base",
            "_model_module_version": "1.5.0",
            "_view_count": null,
            "_view_module_version": "1.2.0",
            "bar_color": null,
            "_model_module": "@jupyter-widgets/controls"
          }
        },
        "efa4ac647f724f3fb9f6866c9f27d835": {
          "model_module": "@jupyter-widgets/base",
          "model_name": "LayoutModel",
          "state": {
            "_view_name": "LayoutView",
            "grid_template_rows": null,
            "right": null,
            "justify_content": null,
            "_view_module": "@jupyter-widgets/base",
            "overflow": null,
            "_model_module_version": "1.2.0",
            "_view_count": null,
            "flex_flow": null,
            "width": null,
            "min_width": null,
            "border": null,
            "align_items": null,
            "bottom": null,
            "_model_module": "@jupyter-widgets/base",
            "top": null,
            "grid_column": null,
            "overflow_y": null,
            "overflow_x": null,
            "grid_auto_flow": null,
            "grid_area": null,
            "grid_template_columns": null,
            "flex": null,
            "_model_name": "LayoutModel",
            "justify_items": null,
            "grid_row": null,
            "max_height": null,
            "align_content": null,
            "visibility": null,
            "align_self": null,
            "height": null,
            "min_height": null,
            "padding": null,
            "grid_auto_rows": null,
            "grid_gap": null,
            "max_width": null,
            "order": null,
            "_view_module_version": "1.2.0",
            "grid_template_areas": null,
            "object_position": null,
            "object_fit": null,
            "grid_auto_columns": null,
            "margin": null,
            "display": null,
            "left": null
          }
        },
        "95c7ca2edb1941c3b75260dbc4d5444a": {
          "model_module": "@jupyter-widgets/controls",
          "model_name": "DescriptionStyleModel",
          "state": {
            "_view_name": "StyleView",
            "_model_name": "DescriptionStyleModel",
            "description_width": "",
            "_view_module": "@jupyter-widgets/base",
            "_model_module_version": "1.5.0",
            "_view_count": null,
            "_view_module_version": "1.2.0",
            "_model_module": "@jupyter-widgets/controls"
          }
        },
        "ea95afdb5e45400b906ea08b45a93898": {
          "model_module": "@jupyter-widgets/base",
          "model_name": "LayoutModel",
          "state": {
            "_view_name": "LayoutView",
            "grid_template_rows": null,
            "right": null,
            "justify_content": null,
            "_view_module": "@jupyter-widgets/base",
            "overflow": null,
            "_model_module_version": "1.2.0",
            "_view_count": null,
            "flex_flow": null,
            "width": null,
            "min_width": null,
            "border": null,
            "align_items": null,
            "bottom": null,
            "_model_module": "@jupyter-widgets/base",
            "top": null,
            "grid_column": null,
            "overflow_y": null,
            "overflow_x": null,
            "grid_auto_flow": null,
            "grid_area": null,
            "grid_template_columns": null,
            "flex": null,
            "_model_name": "LayoutModel",
            "justify_items": null,
            "grid_row": null,
            "max_height": null,
            "align_content": null,
            "visibility": null,
            "align_self": null,
            "height": null,
            "min_height": null,
            "padding": null,
            "grid_auto_rows": null,
            "grid_gap": null,
            "max_width": null,
            "order": null,
            "_view_module_version": "1.2.0",
            "grid_template_areas": null,
            "object_position": null,
            "object_fit": null,
            "grid_auto_columns": null,
            "margin": null,
            "display": null,
            "left": null
          }
        },
        "35881def48a84fa38d5f0f74401feb06": {
          "model_module": "@jupyter-widgets/controls",
          "model_name": "HBoxModel",
          "state": {
            "_view_name": "HBoxView",
            "_dom_classes": [],
            "_model_name": "HBoxModel",
            "_view_module": "@jupyter-widgets/controls",
            "_model_module_version": "1.5.0",
            "_view_count": null,
            "_view_module_version": "1.5.0",
            "box_style": "",
            "layout": "IPY_MODEL_0b771bee1731429c92aa29e3ab9d47ff",
            "_model_module": "@jupyter-widgets/controls",
            "children": [
              "IPY_MODEL_80aaa935ada64191912484eaca007b14",
              "IPY_MODEL_0781b8a14f2942c091685ad5e7443baa"
            ]
          }
        },
        "0b771bee1731429c92aa29e3ab9d47ff": {
          "model_module": "@jupyter-widgets/base",
          "model_name": "LayoutModel",
          "state": {
            "_view_name": "LayoutView",
            "grid_template_rows": null,
            "right": null,
            "justify_content": null,
            "_view_module": "@jupyter-widgets/base",
            "overflow": null,
            "_model_module_version": "1.2.0",
            "_view_count": null,
            "flex_flow": null,
            "width": null,
            "min_width": null,
            "border": null,
            "align_items": null,
            "bottom": null,
            "_model_module": "@jupyter-widgets/base",
            "top": null,
            "grid_column": null,
            "overflow_y": null,
            "overflow_x": null,
            "grid_auto_flow": null,
            "grid_area": null,
            "grid_template_columns": null,
            "flex": null,
            "_model_name": "LayoutModel",
            "justify_items": null,
            "grid_row": null,
            "max_height": null,
            "align_content": null,
            "visibility": null,
            "align_self": null,
            "height": null,
            "min_height": null,
            "padding": null,
            "grid_auto_rows": null,
            "grid_gap": null,
            "max_width": null,
            "order": null,
            "_view_module_version": "1.2.0",
            "grid_template_areas": null,
            "object_position": null,
            "object_fit": null,
            "grid_auto_columns": null,
            "margin": null,
            "display": null,
            "left": null
          }
        },
        "80aaa935ada64191912484eaca007b14": {
          "model_module": "@jupyter-widgets/controls",
          "model_name": "FloatProgressModel",
          "state": {
            "_view_name": "ProgressView",
            "style": "IPY_MODEL_00c35649f01541638fc8d79a433d62dc",
            "_dom_classes": [],
            "description": "  0%",
            "_model_name": "FloatProgressModel",
            "bar_style": "info",
            "max": 1,
            "_view_module": "@jupyter-widgets/controls",
            "_model_module_version": "1.5.0",
            "value": 0,
            "_view_count": null,
            "_view_module_version": "1.5.0",
            "orientation": "horizontal",
            "min": 0,
            "description_tooltip": null,
            "_model_module": "@jupyter-widgets/controls",
            "layout": "IPY_MODEL_0fefb1a839fe4b09bb68c2fd009a323a"
          }
        },
        "0781b8a14f2942c091685ad5e7443baa": {
          "model_module": "@jupyter-widgets/controls",
          "model_name": "HTMLModel",
          "state": {
            "_view_name": "HTMLView",
            "style": "IPY_MODEL_618174481ae54727ba34da415762d650",
            "_dom_classes": [],
            "description": "",
            "_model_name": "HTMLModel",
            "placeholder": "​",
            "_view_module": "@jupyter-widgets/controls",
            "_model_module_version": "1.5.0",
            "value": " 0/28881 [00:00&lt;?, ?it/s]",
            "_view_count": null,
            "_view_module_version": "1.5.0",
            "description_tooltip": null,
            "_model_module": "@jupyter-widgets/controls",
            "layout": "IPY_MODEL_7d65080815c241569b9bba426c94c5da"
          }
        },
        "00c35649f01541638fc8d79a433d62dc": {
          "model_module": "@jupyter-widgets/controls",
          "model_name": "ProgressStyleModel",
          "state": {
            "_view_name": "StyleView",
            "_model_name": "ProgressStyleModel",
            "description_width": "initial",
            "_view_module": "@jupyter-widgets/base",
            "_model_module_version": "1.5.0",
            "_view_count": null,
            "_view_module_version": "1.2.0",
            "bar_color": null,
            "_model_module": "@jupyter-widgets/controls"
          }
        },
        "0fefb1a839fe4b09bb68c2fd009a323a": {
          "model_module": "@jupyter-widgets/base",
          "model_name": "LayoutModel",
          "state": {
            "_view_name": "LayoutView",
            "grid_template_rows": null,
            "right": null,
            "justify_content": null,
            "_view_module": "@jupyter-widgets/base",
            "overflow": null,
            "_model_module_version": "1.2.0",
            "_view_count": null,
            "flex_flow": null,
            "width": null,
            "min_width": null,
            "border": null,
            "align_items": null,
            "bottom": null,
            "_model_module": "@jupyter-widgets/base",
            "top": null,
            "grid_column": null,
            "overflow_y": null,
            "overflow_x": null,
            "grid_auto_flow": null,
            "grid_area": null,
            "grid_template_columns": null,
            "flex": null,
            "_model_name": "LayoutModel",
            "justify_items": null,
            "grid_row": null,
            "max_height": null,
            "align_content": null,
            "visibility": null,
            "align_self": null,
            "height": null,
            "min_height": null,
            "padding": null,
            "grid_auto_rows": null,
            "grid_gap": null,
            "max_width": null,
            "order": null,
            "_view_module_version": "1.2.0",
            "grid_template_areas": null,
            "object_position": null,
            "object_fit": null,
            "grid_auto_columns": null,
            "margin": null,
            "display": null,
            "left": null
          }
        },
        "618174481ae54727ba34da415762d650": {
          "model_module": "@jupyter-widgets/controls",
          "model_name": "DescriptionStyleModel",
          "state": {
            "_view_name": "StyleView",
            "_model_name": "DescriptionStyleModel",
            "description_width": "",
            "_view_module": "@jupyter-widgets/base",
            "_model_module_version": "1.5.0",
            "_view_count": null,
            "_view_module_version": "1.2.0",
            "_model_module": "@jupyter-widgets/controls"
          }
        },
        "7d65080815c241569b9bba426c94c5da": {
          "model_module": "@jupyter-widgets/base",
          "model_name": "LayoutModel",
          "state": {
            "_view_name": "LayoutView",
            "grid_template_rows": null,
            "right": null,
            "justify_content": null,
            "_view_module": "@jupyter-widgets/base",
            "overflow": null,
            "_model_module_version": "1.2.0",
            "_view_count": null,
            "flex_flow": null,
            "width": null,
            "min_width": null,
            "border": null,
            "align_items": null,
            "bottom": null,
            "_model_module": "@jupyter-widgets/base",
            "top": null,
            "grid_column": null,
            "overflow_y": null,
            "overflow_x": null,
            "grid_auto_flow": null,
            "grid_area": null,
            "grid_template_columns": null,
            "flex": null,
            "_model_name": "LayoutModel",
            "justify_items": null,
            "grid_row": null,
            "max_height": null,
            "align_content": null,
            "visibility": null,
            "align_self": null,
            "height": null,
            "min_height": null,
            "padding": null,
            "grid_auto_rows": null,
            "grid_gap": null,
            "max_width": null,
            "order": null,
            "_view_module_version": "1.2.0",
            "grid_template_areas": null,
            "object_position": null,
            "object_fit": null,
            "grid_auto_columns": null,
            "margin": null,
            "display": null,
            "left": null
          }
        },
        "a4030dd97e72475e930d367774f11e5c": {
          "model_module": "@jupyter-widgets/controls",
          "model_name": "HBoxModel",
          "state": {
            "_view_name": "HBoxView",
            "_dom_classes": [],
            "_model_name": "HBoxModel",
            "_view_module": "@jupyter-widgets/controls",
            "_model_module_version": "1.5.0",
            "_view_count": null,
            "_view_module_version": "1.5.0",
            "box_style": "",
            "layout": "IPY_MODEL_1eadcea76a594f5290bef0c9662e7eb9",
            "_model_module": "@jupyter-widgets/controls",
            "children": [
              "IPY_MODEL_a9edf4d88be6417ea4556a55fb572810",
              "IPY_MODEL_116a64c9635547e3bf64b3fd0b6e9c13"
            ]
          }
        },
        "1eadcea76a594f5290bef0c9662e7eb9": {
          "model_module": "@jupyter-widgets/base",
          "model_name": "LayoutModel",
          "state": {
            "_view_name": "LayoutView",
            "grid_template_rows": null,
            "right": null,
            "justify_content": null,
            "_view_module": "@jupyter-widgets/base",
            "overflow": null,
            "_model_module_version": "1.2.0",
            "_view_count": null,
            "flex_flow": null,
            "width": null,
            "min_width": null,
            "border": null,
            "align_items": null,
            "bottom": null,
            "_model_module": "@jupyter-widgets/base",
            "top": null,
            "grid_column": null,
            "overflow_y": null,
            "overflow_x": null,
            "grid_auto_flow": null,
            "grid_area": null,
            "grid_template_columns": null,
            "flex": null,
            "_model_name": "LayoutModel",
            "justify_items": null,
            "grid_row": null,
            "max_height": null,
            "align_content": null,
            "visibility": null,
            "align_self": null,
            "height": null,
            "min_height": null,
            "padding": null,
            "grid_auto_rows": null,
            "grid_gap": null,
            "max_width": null,
            "order": null,
            "_view_module_version": "1.2.0",
            "grid_template_areas": null,
            "object_position": null,
            "object_fit": null,
            "grid_auto_columns": null,
            "margin": null,
            "display": null,
            "left": null
          }
        },
        "a9edf4d88be6417ea4556a55fb572810": {
          "model_module": "@jupyter-widgets/controls",
          "model_name": "FloatProgressModel",
          "state": {
            "_view_name": "ProgressView",
            "style": "IPY_MODEL_43456c05e0ed4fc988ade55d52691478",
            "_dom_classes": [],
            "description": "",
            "_model_name": "FloatProgressModel",
            "bar_style": "success",
            "max": 1,
            "_view_module": "@jupyter-widgets/controls",
            "_model_module_version": "1.5.0",
            "value": 1,
            "_view_count": null,
            "_view_module_version": "1.5.0",
            "orientation": "horizontal",
            "min": 0,
            "description_tooltip": null,
            "_model_module": "@jupyter-widgets/controls",
            "layout": "IPY_MODEL_7daa78faee664b32b46a6ac25f518044"
          }
        },
        "116a64c9635547e3bf64b3fd0b6e9c13": {
          "model_module": "@jupyter-widgets/controls",
          "model_name": "HTMLModel",
          "state": {
            "_view_name": "HTMLView",
            "style": "IPY_MODEL_f51ee37526c84482bee5fd6372295746",
            "_dom_classes": [],
            "description": "",
            "_model_name": "HTMLModel",
            "placeholder": "​",
            "_view_module": "@jupyter-widgets/controls",
            "_model_module_version": "1.5.0",
            "value": " 1654784/? [00:07&lt;00:00, 221606.76it/s]",
            "_view_count": null,
            "_view_module_version": "1.5.0",
            "description_tooltip": null,
            "_model_module": "@jupyter-widgets/controls",
            "layout": "IPY_MODEL_a9ceb21c2c374a6a80864e7a7598ceda"
          }
        },
        "43456c05e0ed4fc988ade55d52691478": {
          "model_module": "@jupyter-widgets/controls",
          "model_name": "ProgressStyleModel",
          "state": {
            "_view_name": "StyleView",
            "_model_name": "ProgressStyleModel",
            "description_width": "initial",
            "_view_module": "@jupyter-widgets/base",
            "_model_module_version": "1.5.0",
            "_view_count": null,
            "_view_module_version": "1.2.0",
            "bar_color": null,
            "_model_module": "@jupyter-widgets/controls"
          }
        },
        "7daa78faee664b32b46a6ac25f518044": {
          "model_module": "@jupyter-widgets/base",
          "model_name": "LayoutModel",
          "state": {
            "_view_name": "LayoutView",
            "grid_template_rows": null,
            "right": null,
            "justify_content": null,
            "_view_module": "@jupyter-widgets/base",
            "overflow": null,
            "_model_module_version": "1.2.0",
            "_view_count": null,
            "flex_flow": null,
            "width": null,
            "min_width": null,
            "border": null,
            "align_items": null,
            "bottom": null,
            "_model_module": "@jupyter-widgets/base",
            "top": null,
            "grid_column": null,
            "overflow_y": null,
            "overflow_x": null,
            "grid_auto_flow": null,
            "grid_area": null,
            "grid_template_columns": null,
            "flex": null,
            "_model_name": "LayoutModel",
            "justify_items": null,
            "grid_row": null,
            "max_height": null,
            "align_content": null,
            "visibility": null,
            "align_self": null,
            "height": null,
            "min_height": null,
            "padding": null,
            "grid_auto_rows": null,
            "grid_gap": null,
            "max_width": null,
            "order": null,
            "_view_module_version": "1.2.0",
            "grid_template_areas": null,
            "object_position": null,
            "object_fit": null,
            "grid_auto_columns": null,
            "margin": null,
            "display": null,
            "left": null
          }
        },
        "f51ee37526c84482bee5fd6372295746": {
          "model_module": "@jupyter-widgets/controls",
          "model_name": "DescriptionStyleModel",
          "state": {
            "_view_name": "StyleView",
            "_model_name": "DescriptionStyleModel",
            "description_width": "",
            "_view_module": "@jupyter-widgets/base",
            "_model_module_version": "1.5.0",
            "_view_count": null,
            "_view_module_version": "1.2.0",
            "_model_module": "@jupyter-widgets/controls"
          }
        },
        "a9ceb21c2c374a6a80864e7a7598ceda": {
          "model_module": "@jupyter-widgets/base",
          "model_name": "LayoutModel",
          "state": {
            "_view_name": "LayoutView",
            "grid_template_rows": null,
            "right": null,
            "justify_content": null,
            "_view_module": "@jupyter-widgets/base",
            "overflow": null,
            "_model_module_version": "1.2.0",
            "_view_count": null,
            "flex_flow": null,
            "width": null,
            "min_width": null,
            "border": null,
            "align_items": null,
            "bottom": null,
            "_model_module": "@jupyter-widgets/base",
            "top": null,
            "grid_column": null,
            "overflow_y": null,
            "overflow_x": null,
            "grid_auto_flow": null,
            "grid_area": null,
            "grid_template_columns": null,
            "flex": null,
            "_model_name": "LayoutModel",
            "justify_items": null,
            "grid_row": null,
            "max_height": null,
            "align_content": null,
            "visibility": null,
            "align_self": null,
            "height": null,
            "min_height": null,
            "padding": null,
            "grid_auto_rows": null,
            "grid_gap": null,
            "max_width": null,
            "order": null,
            "_view_module_version": "1.2.0",
            "grid_template_areas": null,
            "object_position": null,
            "object_fit": null,
            "grid_auto_columns": null,
            "margin": null,
            "display": null,
            "left": null
          }
        },
        "4fd8adbc418c43669686d6bcda2eb11b": {
          "model_module": "@jupyter-widgets/controls",
          "model_name": "HBoxModel",
          "state": {
            "_view_name": "HBoxView",
            "_dom_classes": [],
            "_model_name": "HBoxModel",
            "_view_module": "@jupyter-widgets/controls",
            "_model_module_version": "1.5.0",
            "_view_count": null,
            "_view_module_version": "1.5.0",
            "box_style": "",
            "layout": "IPY_MODEL_e0114168a0af47b980d25fb78479c2de",
            "_model_module": "@jupyter-widgets/controls",
            "children": [
              "IPY_MODEL_8b096342f27a4ef8bbdf3e2d68600a1c",
              "IPY_MODEL_b24f15dcbd5d437fab0e94c857eddc3c"
            ]
          }
        },
        "e0114168a0af47b980d25fb78479c2de": {
          "model_module": "@jupyter-widgets/base",
          "model_name": "LayoutModel",
          "state": {
            "_view_name": "LayoutView",
            "grid_template_rows": null,
            "right": null,
            "justify_content": null,
            "_view_module": "@jupyter-widgets/base",
            "overflow": null,
            "_model_module_version": "1.2.0",
            "_view_count": null,
            "flex_flow": null,
            "width": null,
            "min_width": null,
            "border": null,
            "align_items": null,
            "bottom": null,
            "_model_module": "@jupyter-widgets/base",
            "top": null,
            "grid_column": null,
            "overflow_y": null,
            "overflow_x": null,
            "grid_auto_flow": null,
            "grid_area": null,
            "grid_template_columns": null,
            "flex": null,
            "_model_name": "LayoutModel",
            "justify_items": null,
            "grid_row": null,
            "max_height": null,
            "align_content": null,
            "visibility": null,
            "align_self": null,
            "height": null,
            "min_height": null,
            "padding": null,
            "grid_auto_rows": null,
            "grid_gap": null,
            "max_width": null,
            "order": null,
            "_view_module_version": "1.2.0",
            "grid_template_areas": null,
            "object_position": null,
            "object_fit": null,
            "grid_auto_columns": null,
            "margin": null,
            "display": null,
            "left": null
          }
        },
        "8b096342f27a4ef8bbdf3e2d68600a1c": {
          "model_module": "@jupyter-widgets/controls",
          "model_name": "FloatProgressModel",
          "state": {
            "_view_name": "ProgressView",
            "style": "IPY_MODEL_ac028d34cfbc476c8a3d2fc8ba10a0a6",
            "_dom_classes": [],
            "description": "",
            "_model_name": "FloatProgressModel",
            "bar_style": "success",
            "max": 1,
            "_view_module": "@jupyter-widgets/controls",
            "_model_module_version": "1.5.0",
            "value": 1,
            "_view_count": null,
            "_view_module_version": "1.5.0",
            "orientation": "horizontal",
            "min": 0,
            "description_tooltip": null,
            "_model_module": "@jupyter-widgets/controls",
            "layout": "IPY_MODEL_4f9ed8bcdb8b457181dc388a4decb85d"
          }
        },
        "b24f15dcbd5d437fab0e94c857eddc3c": {
          "model_module": "@jupyter-widgets/controls",
          "model_name": "HTMLModel",
          "state": {
            "_view_name": "HTMLView",
            "style": "IPY_MODEL_876c4c4bab9e45d39cb9c04512deaa22",
            "_dom_classes": [],
            "description": "",
            "_model_name": "HTMLModel",
            "placeholder": "​",
            "_view_module": "@jupyter-widgets/controls",
            "_model_module_version": "1.5.0",
            "value": " 8192/? [00:06&lt;00:00, 1228.36it/s]",
            "_view_count": null,
            "_view_module_version": "1.5.0",
            "description_tooltip": null,
            "_model_module": "@jupyter-widgets/controls",
            "layout": "IPY_MODEL_12f89f09a80f456da95e077577f6742f"
          }
        },
        "ac028d34cfbc476c8a3d2fc8ba10a0a6": {
          "model_module": "@jupyter-widgets/controls",
          "model_name": "ProgressStyleModel",
          "state": {
            "_view_name": "StyleView",
            "_model_name": "ProgressStyleModel",
            "description_width": "initial",
            "_view_module": "@jupyter-widgets/base",
            "_model_module_version": "1.5.0",
            "_view_count": null,
            "_view_module_version": "1.2.0",
            "bar_color": null,
            "_model_module": "@jupyter-widgets/controls"
          }
        },
        "4f9ed8bcdb8b457181dc388a4decb85d": {
          "model_module": "@jupyter-widgets/base",
          "model_name": "LayoutModel",
          "state": {
            "_view_name": "LayoutView",
            "grid_template_rows": null,
            "right": null,
            "justify_content": null,
            "_view_module": "@jupyter-widgets/base",
            "overflow": null,
            "_model_module_version": "1.2.0",
            "_view_count": null,
            "flex_flow": null,
            "width": null,
            "min_width": null,
            "border": null,
            "align_items": null,
            "bottom": null,
            "_model_module": "@jupyter-widgets/base",
            "top": null,
            "grid_column": null,
            "overflow_y": null,
            "overflow_x": null,
            "grid_auto_flow": null,
            "grid_area": null,
            "grid_template_columns": null,
            "flex": null,
            "_model_name": "LayoutModel",
            "justify_items": null,
            "grid_row": null,
            "max_height": null,
            "align_content": null,
            "visibility": null,
            "align_self": null,
            "height": null,
            "min_height": null,
            "padding": null,
            "grid_auto_rows": null,
            "grid_gap": null,
            "max_width": null,
            "order": null,
            "_view_module_version": "1.2.0",
            "grid_template_areas": null,
            "object_position": null,
            "object_fit": null,
            "grid_auto_columns": null,
            "margin": null,
            "display": null,
            "left": null
          }
        },
        "876c4c4bab9e45d39cb9c04512deaa22": {
          "model_module": "@jupyter-widgets/controls",
          "model_name": "DescriptionStyleModel",
          "state": {
            "_view_name": "StyleView",
            "_model_name": "DescriptionStyleModel",
            "description_width": "",
            "_view_module": "@jupyter-widgets/base",
            "_model_module_version": "1.5.0",
            "_view_count": null,
            "_view_module_version": "1.2.0",
            "_model_module": "@jupyter-widgets/controls"
          }
        },
        "12f89f09a80f456da95e077577f6742f": {
          "model_module": "@jupyter-widgets/base",
          "model_name": "LayoutModel",
          "state": {
            "_view_name": "LayoutView",
            "grid_template_rows": null,
            "right": null,
            "justify_content": null,
            "_view_module": "@jupyter-widgets/base",
            "overflow": null,
            "_model_module_version": "1.2.0",
            "_view_count": null,
            "flex_flow": null,
            "width": null,
            "min_width": null,
            "border": null,
            "align_items": null,
            "bottom": null,
            "_model_module": "@jupyter-widgets/base",
            "top": null,
            "grid_column": null,
            "overflow_y": null,
            "overflow_x": null,
            "grid_auto_flow": null,
            "grid_area": null,
            "grid_template_columns": null,
            "flex": null,
            "_model_name": "LayoutModel",
            "justify_items": null,
            "grid_row": null,
            "max_height": null,
            "align_content": null,
            "visibility": null,
            "align_self": null,
            "height": null,
            "min_height": null,
            "padding": null,
            "grid_auto_rows": null,
            "grid_gap": null,
            "max_width": null,
            "order": null,
            "_view_module_version": "1.2.0",
            "grid_template_areas": null,
            "object_position": null,
            "object_fit": null,
            "grid_auto_columns": null,
            "margin": null,
            "display": null,
            "left": null
          }
        }
      }
    }
  },
  "cells": [
    {
      "cell_type": "markdown",
      "metadata": {
        "id": "sZL18qqgb6g1",
        "colab_type": "text"
      },
      "source": [
        "# Report 3: Autoencoders"
      ]
    },
    {
      "cell_type": "markdown",
      "metadata": {
        "id": "ycOkBj-XcCEe",
        "colab_type": "text"
      },
      "source": [
        "## Prithvi Poddar 17191"
      ]
    },
    {
      "cell_type": "markdown",
      "metadata": {
        "id": "RSWuCI9acB4W",
        "colab_type": "text"
      },
      "source": [
        "In this reort, we'll be developing Sparse autoencoder"
      ]
    },
    {
      "cell_type": "markdown",
      "metadata": {
        "id": "rCcUV05BcBuB",
        "colab_type": "text"
      },
      "source": [
        "## Sparse Autoencoder"
      ]
    },
    {
      "cell_type": "markdown",
      "metadata": {
        "id": "RCAPeBAjdJLG",
        "colab_type": "text"
      },
      "source": [
        "### This autoencoder structure has been inspired by the note of Andrew NG on sparse autoencoders. We'll use the parameters mentioned in the notes itself"
      ]
    },
    {
      "cell_type": "code",
      "metadata": {
        "id": "ktO-1RN98UOQ",
        "colab_type": "code",
        "colab": {
          "base_uri": "https://localhost:8080/",
          "height": 104
        },
        "outputId": "03962f68-4fe2-4546-bec7-4a43b6e3521e"
      },
      "source": [
        "!pip3 install torch torchvision"
      ],
      "execution_count": 1,
      "outputs": [
        {
          "output_type": "stream",
          "text": [
            "Requirement already satisfied: torch in /usr/local/lib/python3.6/dist-packages (1.5.1+cu101)\n",
            "Requirement already satisfied: torchvision in /usr/local/lib/python3.6/dist-packages (0.6.1+cu101)\n",
            "Requirement already satisfied: future in /usr/local/lib/python3.6/dist-packages (from torch) (0.16.0)\n",
            "Requirement already satisfied: numpy in /usr/local/lib/python3.6/dist-packages (from torch) (1.18.5)\n",
            "Requirement already satisfied: pillow>=4.1.1 in /usr/local/lib/python3.6/dist-packages (from torchvision) (7.0.0)\n"
          ],
          "name": "stdout"
        }
      ]
    },
    {
      "cell_type": "code",
      "metadata": {
        "id": "1pxA8wYj8hWt",
        "colab_type": "code",
        "colab": {}
      },
      "source": [
        "import torch\n",
        "import matplotlib.pyplot as plt\n",
        "import numpy as np\n",
        "import torch.nn.functional as F\n",
        "from torch import nn\n",
        "from torchvision import datasets, transforms"
      ],
      "execution_count": 39,
      "outputs": []
    },
    {
      "cell_type": "code",
      "metadata": {
        "id": "91mOmX8l8vuB",
        "colab_type": "code",
        "colab": {
          "base_uri": "https://localhost:8080/",
          "height": 34
        },
        "outputId": "74d35611-aba9-4c7c-9c2e-041519b66118"
      },
      "source": [
        "device = torch.device(\"cuda:0\" if torch.cuda.is_available() else \"cpu\")\n",
        "device"
      ],
      "execution_count": 2,
      "outputs": [
        {
          "output_type": "execute_result",
          "data": {
            "text/plain": [
              "device(type='cuda', index=0)"
            ]
          },
          "metadata": {
            "tags": []
          },
          "execution_count": 2
        }
      ]
    },
    {
      "cell_type": "code",
      "metadata": {
        "id": "lOejQpRd8yL8",
        "colab_type": "code",
        "colab": {}
      },
      "source": [
        "transform = transforms.Compose([transforms.ToTensor(), transforms.Normalize((0.5,),(0.5))])"
      ],
      "execution_count": 3,
      "outputs": []
    },
    {
      "cell_type": "code",
      "metadata": {
        "id": "khaJlSZY82Wn",
        "colab_type": "code",
        "colab": {
          "base_uri": "https://localhost:8080/",
          "height": 357,
          "referenced_widgets": [
            "5064175a40e3437e853148996602cb68",
            "427af911bf2d44c8ad60de9567168698",
            "ab48b77ed3b146888ffc22ff56b2fa07",
            "b97332017c9042ccb2c7f156d933ec56",
            "a6c4317cfaef40dfa6f38b294323a5fe",
            "efa4ac647f724f3fb9f6866c9f27d835",
            "95c7ca2edb1941c3b75260dbc4d5444a",
            "ea95afdb5e45400b906ea08b45a93898",
            "35881def48a84fa38d5f0f74401feb06",
            "0b771bee1731429c92aa29e3ab9d47ff",
            "80aaa935ada64191912484eaca007b14",
            "0781b8a14f2942c091685ad5e7443baa",
            "00c35649f01541638fc8d79a433d62dc",
            "0fefb1a839fe4b09bb68c2fd009a323a",
            "618174481ae54727ba34da415762d650",
            "7d65080815c241569b9bba426c94c5da",
            "a4030dd97e72475e930d367774f11e5c",
            "1eadcea76a594f5290bef0c9662e7eb9",
            "a9edf4d88be6417ea4556a55fb572810",
            "116a64c9635547e3bf64b3fd0b6e9c13",
            "43456c05e0ed4fc988ade55d52691478",
            "7daa78faee664b32b46a6ac25f518044",
            "f51ee37526c84482bee5fd6372295746",
            "a9ceb21c2c374a6a80864e7a7598ceda",
            "4fd8adbc418c43669686d6bcda2eb11b",
            "e0114168a0af47b980d25fb78479c2de",
            "8b096342f27a4ef8bbdf3e2d68600a1c",
            "b24f15dcbd5d437fab0e94c857eddc3c",
            "ac028d34cfbc476c8a3d2fc8ba10a0a6",
            "4f9ed8bcdb8b457181dc388a4decb85d",
            "876c4c4bab9e45d39cb9c04512deaa22",
            "12f89f09a80f456da95e077577f6742f"
          ]
        },
        "outputId": "e4ed76e5-c8a7-4f1c-c260-dfc2176bb025"
      },
      "source": [
        "training_dataset = datasets.MNIST(root='./data', train=True, download=True, transform=transform)\n",
        "validation_dataset = datasets.MNIST(root='./data', train=False, download=True, transform=transform)"
      ],
      "execution_count": 4,
      "outputs": [
        {
          "output_type": "stream",
          "text": [
            "Downloading http://yann.lecun.com/exdb/mnist/train-images-idx3-ubyte.gz to ./data/MNIST/raw/train-images-idx3-ubyte.gz\n"
          ],
          "name": "stdout"
        },
        {
          "output_type": "display_data",
          "data": {
            "application/vnd.jupyter.widget-view+json": {
              "model_id": "5064175a40e3437e853148996602cb68",
              "version_minor": 0,
              "version_major": 2
            },
            "text/plain": [
              "HBox(children=(FloatProgress(value=1.0, bar_style='info', max=1.0), HTML(value='')))"
            ]
          },
          "metadata": {
            "tags": []
          }
        },
        {
          "output_type": "stream",
          "text": [
            "Extracting ./data/MNIST/raw/train-images-idx3-ubyte.gz to ./data/MNIST/raw\n",
            "Downloading http://yann.lecun.com/exdb/mnist/train-labels-idx1-ubyte.gz to ./data/MNIST/raw/train-labels-idx1-ubyte.gz\n"
          ],
          "name": "stdout"
        },
        {
          "output_type": "display_data",
          "data": {
            "application/vnd.jupyter.widget-view+json": {
              "model_id": "35881def48a84fa38d5f0f74401feb06",
              "version_minor": 0,
              "version_major": 2
            },
            "text/plain": [
              "HBox(children=(FloatProgress(value=1.0, bar_style='info', max=1.0), HTML(value='')))"
            ]
          },
          "metadata": {
            "tags": []
          }
        },
        {
          "output_type": "stream",
          "text": [
            "Extracting ./data/MNIST/raw/train-labels-idx1-ubyte.gz to ./data/MNIST/raw\n",
            "Downloading http://yann.lecun.com/exdb/mnist/t10k-images-idx3-ubyte.gz to ./data/MNIST/raw/t10k-images-idx3-ubyte.gz\n"
          ],
          "name": "stdout"
        },
        {
          "output_type": "display_data",
          "data": {
            "application/vnd.jupyter.widget-view+json": {
              "model_id": "a4030dd97e72475e930d367774f11e5c",
              "version_minor": 0,
              "version_major": 2
            },
            "text/plain": [
              "HBox(children=(FloatProgress(value=1.0, bar_style='info', max=1.0), HTML(value='')))"
            ]
          },
          "metadata": {
            "tags": []
          }
        },
        {
          "output_type": "stream",
          "text": [
            "Extracting ./data/MNIST/raw/t10k-images-idx3-ubyte.gz to ./data/MNIST/raw\n",
            "Downloading http://yann.lecun.com/exdb/mnist/t10k-labels-idx1-ubyte.gz to ./data/MNIST/raw/t10k-labels-idx1-ubyte.gz\n"
          ],
          "name": "stdout"
        },
        {
          "output_type": "display_data",
          "data": {
            "application/vnd.jupyter.widget-view+json": {
              "model_id": "4fd8adbc418c43669686d6bcda2eb11b",
              "version_minor": 0,
              "version_major": 2
            },
            "text/plain": [
              "HBox(children=(FloatProgress(value=1.0, bar_style='info', max=1.0), HTML(value='')))"
            ]
          },
          "metadata": {
            "tags": []
          }
        },
        {
          "output_type": "stream",
          "text": [
            "Extracting ./data/MNIST/raw/t10k-labels-idx1-ubyte.gz to ./data/MNIST/raw\n",
            "Processing...\n",
            "Done!\n"
          ],
          "name": "stdout"
        },
        {
          "output_type": "stream",
          "text": [
            "/pytorch/torch/csrc/utils/tensor_numpy.cpp:141: UserWarning: The given NumPy array is not writeable, and PyTorch does not support non-writeable tensors. This means you can write to the underlying (supposedly non-writeable) NumPy array using the tensor. You may want to copy the array to protect its data or make it writeable before converting it to a tensor. This type of warning will be suppressed for the rest of this program.\n"
          ],
          "name": "stderr"
        }
      ]
    },
    {
      "cell_type": "code",
      "metadata": {
        "id": "KIkvPfsl9ACu",
        "colab_type": "code",
        "colab": {}
      },
      "source": [
        "training_loader = torch.utils.data.DataLoader(training_dataset, batch_size=32, shuffle=True, num_workers=0)\n",
        "validation_loader = torch.utils.data.DataLoader(validation_dataset, batch_size = 32, shuffle=False, num_workers=0)"
      ],
      "execution_count": 40,
      "outputs": []
    },
    {
      "cell_type": "markdown",
      "metadata": {
        "id": "JQi2YXO2ccYc",
        "colab_type": "text"
      },
      "source": [
        "We start off by defining our autoencoder structure. It will have 5 linear enoding layers and 5 linear decoding layers as can be seen below"
      ]
    },
    {
      "cell_type": "code",
      "metadata": {
        "id": "pOyPn9yG9RVW",
        "colab_type": "code",
        "colab": {
          "base_uri": "https://localhost:8080/",
          "height": 52
        },
        "outputId": "eb55bbd0-3ef5-49ab-8b36-03c9a9d9dcce"
      },
      "source": [
        "class SparseAutoencoder(nn.Module):\n",
        "    \n",
        "    def __init__(self):\n",
        "        super(SparseAutoencoder, self).__init__()\n",
        "        \n",
        "        #encoder\n",
        "        self.en1 = nn.Linear(784, 256)\n",
        "        self.en2 = nn.Linear(256, 128)\n",
        "        self.en3 = nn.Linear(128, 64)\n",
        "        self.en4 = nn.Linear(64, 32)\n",
        "        self.en5 = nn.Linear(32, 16)\n",
        "\n",
        "        #decoder\n",
        "        self.de1 = nn.Linear(16, 32)\n",
        "        self.de2 = nn.Linear(32, 64)\n",
        "        self.de3 = nn.Linear(64, 128)\n",
        "        self.de4 = nn.Linear(128, 256)\n",
        "        self.de5 = nn.Linear(256, 784)\n",
        "\n",
        "    def forward(self, x):\n",
        "        #encoding\n",
        "        x = F.relu(self.en1(x))\n",
        "        x = F.relu(self.en2(x))\n",
        "        x = F.relu(self.en3(x))\n",
        "        x = F.relu(self.en4(x))\n",
        "        x = F.relu(self.en5(x))\n",
        "\n",
        "        #decoding\n",
        "        x = F.relu(self.de1(x))\n",
        "        x = F.relu(self.de2(x))\n",
        "        x = F.relu(self.de3(x))\n",
        "        x = F.relu(self.de4(x))\n",
        "        x = F.relu(self.de5(x))\n",
        "\n",
        "        return x"
      ],
      "execution_count": 6,
      "outputs": [
        {
          "output_type": "stream",
          "text": [
            "\n",
            "\n"
          ],
          "name": "stdout"
        }
      ]
    },
    {
      "cell_type": "code",
      "metadata": {
        "id": "8giLIBao_k_8",
        "colab_type": "code",
        "colab": {}
      },
      "source": [
        "model = SparseAutoencoder().to(device)"
      ],
      "execution_count": 7,
      "outputs": []
    },
    {
      "cell_type": "markdown",
      "metadata": {
        "id": "hueA7fBsctsp",
        "colab_type": "text"
      },
      "source": [
        "Nex we extract the layers in the autoencoder individually so that we can use them to calculate the sparse loss by passing the imput images separately through all the layers"
      ]
    },
    {
      "cell_type": "code",
      "metadata": {
        "id": "4Jtz8CRu_-xI",
        "colab_type": "code",
        "colab": {}
      },
      "source": [
        "model_children = list(model.children())"
      ],
      "execution_count": 8,
      "outputs": []
    },
    {
      "cell_type": "markdown",
      "metadata": {
        "id": "2sy4v6YJdDtp",
        "colab_type": "text"
      },
      "source": [
        "Defining the KL divergence and Sparse Loss"
      ]
    },
    {
      "cell_type": "code",
      "metadata": {
        "id": "pugUYJEEA1q5",
        "colab_type": "code",
        "colab": {}
      },
      "source": [
        "def kl_div(rho, rho_hat):\n",
        "  rho_hat = torch.mean(torch.sigmoid(rho_hat), 1) #sigmoid to squash the output between 0-1 to get probability distribution\n",
        "  rho = torch.tensor([rho] * len(rho_hat)).to(device) # converting rho into a tensor of same size as rho_hat, for further calculations\n",
        "  return torch.sum(rho * torch.log(rho/rho_hat) + (1 - rho) * torch.log((1 - rho)/(1 - rho_hat)))\n",
        "\n",
        "def sparse_loss(rho, images):\n",
        "  values = images\n",
        "  loss = 0\n",
        "  for i in range(len(model_children)):\n",
        "    values = model_children[i](values) #computing the activation after passing through the layer i of the model\n",
        "    loss+=kl_div(rho, values)\n",
        "  return loss"
      ],
      "execution_count": 9,
      "outputs": []
    },
    {
      "cell_type": "markdown",
      "metadata": {
        "id": "CRS4kaQpdnmL",
        "colab_type": "text"
      },
      "source": [
        "Finally we define the functin to train our model:"
      ]
    },
    {
      "cell_type": "code",
      "metadata": {
        "id": "17b0lgM0BVXM",
        "colab_type": "code",
        "colab": {}
      },
      "source": [
        "def train(model, epochs, learning_rate, RHO, BETA):\n",
        "  criterion = nn.MSELoss()\n",
        "  optimizer = torch.optim.Adam(model.parameters(), lr = learning_rate)\n",
        "\n",
        "  training_losses = []\n",
        "  test_losses = []\n",
        "\n",
        "  for e in range(epochs):\n",
        "    training_loss = 0.0\n",
        "    test_loss = 0.0\n",
        "    for inputs, labels in training_loader:\n",
        "      inputs = inputs.view(inputs.shape[0], -1)\n",
        "      inputs = inputs.to(device)\n",
        "      outputs = model.forward(inputs)\n",
        "      mse_loss = criterion(outputs, inputs)\n",
        "      sparsity = sparse_loss(RHO, inputs)\n",
        "      loss = mse_loss + BETA*sparsity\n",
        "      optimizer.zero_grad()\n",
        "      loss.backward()\n",
        "      optimizer.step()\n",
        "\n",
        "      training_loss+=loss.item()\n",
        "\n",
        "    else:\n",
        "      with torch.no_grad():\n",
        "        for val_inputs, val_labels in validation_loader:\n",
        "          val_inputs = val_inputs.to(device)\n",
        "          val_inputs = val_inputs.view(val_inputs.shape[0], -1)\n",
        "          val_outputs = model.forward(val_inputs)\n",
        "          val_mse_loss = criterion(val_outputs, val_inputs)\n",
        "          val_sparsity = sparse_loss(RHO, val_inputs)\n",
        "          val_loss = val_mse_loss + BETA*val_sparsity\n",
        "          test_loss += val_loss.item()\n",
        "\n",
        "      epoch_loss = training_loss/len(training_loader)\n",
        "      training_losses.append(epoch_loss)\n",
        "      val_epoch_loss = test_loss/len(validation_loader)\n",
        "      test_losses.append(val_epoch_loss)\n",
        "      print('epoch :', (e+1))\n",
        "      print('training loss: {:.4f} '.format(epoch_loss))\n",
        "      print('validation loss: {:.4f} '.format(val_epoch_loss))\n",
        "\n",
        "  return training_losses, test_losses\n"
      ],
      "execution_count": 10,
      "outputs": []
    },
    {
      "cell_type": "code",
      "metadata": {
        "id": "Vo7Oj1ShKvKr",
        "colab_type": "code",
        "colab": {
          "base_uri": "https://localhost:8080/",
          "height": 1000
        },
        "outputId": "b623ca25-8655-466e-a709-d44e04666b01"
      },
      "source": [
        "training_losses, test_losses = train(model, 100, 0.0001, 0.05, 0.001)"
      ],
      "execution_count": 11,
      "outputs": [
        {
          "output_type": "stream",
          "text": [
            "epoch : 1\n",
            "training loss: 0.9419 \n",
            "validation loss: 0.9367 \n",
            "epoch : 2\n",
            "training loss: 0.9363 \n",
            "validation loss: 0.9367 \n",
            "epoch : 3\n",
            "training loss: 0.9359 \n",
            "validation loss: 0.9341 \n",
            "epoch : 4\n",
            "training loss: 0.9323 \n",
            "validation loss: 0.9275 \n",
            "epoch : 5\n",
            "training loss: 0.9268 \n",
            "validation loss: 0.9254 \n",
            "epoch : 6\n",
            "training loss: 0.9247 \n",
            "validation loss: 0.9229 \n",
            "epoch : 7\n",
            "training loss: 0.9223 \n",
            "validation loss: 0.9198 \n",
            "epoch : 8\n",
            "training loss: 0.9195 \n",
            "validation loss: 0.9178 \n",
            "epoch : 9\n",
            "training loss: 0.9170 \n",
            "validation loss: 0.9152 \n",
            "epoch : 10\n",
            "training loss: 0.9154 \n",
            "validation loss: 0.9138 \n",
            "epoch : 11\n",
            "training loss: 0.9143 \n",
            "validation loss: 0.9127 \n",
            "epoch : 12\n",
            "training loss: 0.9129 \n",
            "validation loss: 0.9109 \n",
            "epoch : 13\n",
            "training loss: 0.9106 \n",
            "validation loss: 0.9079 \n",
            "epoch : 14\n",
            "training loss: 0.9080 \n",
            "validation loss: 0.9058 \n",
            "epoch : 15\n",
            "training loss: 0.9063 \n",
            "validation loss: 0.9044 \n",
            "epoch : 16\n",
            "training loss: 0.9050 \n",
            "validation loss: 0.9033 \n",
            "epoch : 17\n",
            "training loss: 0.9039 \n",
            "validation loss: 0.9021 \n",
            "epoch : 18\n",
            "training loss: 0.9024 \n",
            "validation loss: 0.8999 \n",
            "epoch : 19\n",
            "training loss: 0.9008 \n",
            "validation loss: 0.8991 \n",
            "epoch : 20\n",
            "training loss: 0.8998 \n",
            "validation loss: 0.8979 \n",
            "epoch : 21\n",
            "training loss: 0.8990 \n",
            "validation loss: 0.8957 \n",
            "epoch : 22\n",
            "training loss: 0.8966 \n",
            "validation loss: 0.8948 \n",
            "epoch : 23\n",
            "training loss: 0.8958 \n",
            "validation loss: 0.8939 \n",
            "epoch : 24\n",
            "training loss: 0.8950 \n",
            "validation loss: 0.8930 \n",
            "epoch : 25\n",
            "training loss: 0.8941 \n",
            "validation loss: 0.8921 \n",
            "epoch : 26\n",
            "training loss: 0.8931 \n",
            "validation loss: 0.8911 \n",
            "epoch : 27\n",
            "training loss: 0.8924 \n",
            "validation loss: 0.8906 \n",
            "epoch : 28\n",
            "training loss: 0.8918 \n",
            "validation loss: 0.8900 \n",
            "epoch : 29\n",
            "training loss: 0.8909 \n",
            "validation loss: 0.8890 \n",
            "epoch : 30\n",
            "training loss: 0.8903 \n",
            "validation loss: 0.8885 \n",
            "epoch : 31\n",
            "training loss: 0.8897 \n",
            "validation loss: 0.8877 \n",
            "epoch : 32\n",
            "training loss: 0.8884 \n",
            "validation loss: 0.8860 \n",
            "epoch : 33\n",
            "training loss: 0.8874 \n",
            "validation loss: 0.8856 \n",
            "epoch : 34\n",
            "training loss: 0.8869 \n",
            "validation loss: 0.8851 \n",
            "epoch : 35\n",
            "training loss: 0.8865 \n",
            "validation loss: 0.8847 \n",
            "epoch : 36\n",
            "training loss: 0.8859 \n",
            "validation loss: 0.8840 \n",
            "epoch : 37\n",
            "training loss: 0.8853 \n",
            "validation loss: 0.8836 \n",
            "epoch : 38\n",
            "training loss: 0.8843 \n",
            "validation loss: 0.8823 \n",
            "epoch : 39\n",
            "training loss: 0.8835 \n",
            "validation loss: 0.8815 \n",
            "epoch : 40\n",
            "training loss: 0.8828 \n",
            "validation loss: 0.8809 \n",
            "epoch : 41\n",
            "training loss: 0.8822 \n",
            "validation loss: 0.8803 \n",
            "epoch : 42\n",
            "training loss: 0.8817 \n",
            "validation loss: 0.8799 \n",
            "epoch : 43\n",
            "training loss: 0.8811 \n",
            "validation loss: 0.8792 \n",
            "epoch : 44\n",
            "training loss: 0.8806 \n",
            "validation loss: 0.8787 \n",
            "epoch : 45\n",
            "training loss: 0.8801 \n",
            "validation loss: 0.8782 \n",
            "epoch : 46\n",
            "training loss: 0.8795 \n",
            "validation loss: 0.8775 \n",
            "epoch : 47\n",
            "training loss: 0.8790 \n",
            "validation loss: 0.8770 \n",
            "epoch : 48\n",
            "training loss: 0.8786 \n",
            "validation loss: 0.8767 \n",
            "epoch : 49\n",
            "training loss: 0.8782 \n",
            "validation loss: 0.8764 \n",
            "epoch : 50\n",
            "training loss: 0.8779 \n",
            "validation loss: 0.8761 \n",
            "epoch : 51\n",
            "training loss: 0.8776 \n",
            "validation loss: 0.8750 \n",
            "epoch : 52\n",
            "training loss: 0.8766 \n",
            "validation loss: 0.8748 \n",
            "epoch : 53\n",
            "training loss: 0.8763 \n",
            "validation loss: 0.8745 \n",
            "epoch : 54\n",
            "training loss: 0.8759 \n",
            "validation loss: 0.8741 \n",
            "epoch : 55\n",
            "training loss: 0.8757 \n",
            "validation loss: 0.8740 \n",
            "epoch : 56\n",
            "training loss: 0.8754 \n",
            "validation loss: 0.8737 \n",
            "epoch : 57\n",
            "training loss: 0.8751 \n",
            "validation loss: 0.8733 \n",
            "epoch : 58\n",
            "training loss: 0.8748 \n",
            "validation loss: 0.8731 \n",
            "epoch : 59\n",
            "training loss: 0.8745 \n",
            "validation loss: 0.8727 \n",
            "epoch : 60\n",
            "training loss: 0.8743 \n",
            "validation loss: 0.8727 \n",
            "epoch : 61\n",
            "training loss: 0.8740 \n",
            "validation loss: 0.8725 \n",
            "epoch : 62\n",
            "training loss: 0.8737 \n",
            "validation loss: 0.8721 \n",
            "epoch : 63\n",
            "training loss: 0.8735 \n",
            "validation loss: 0.8719 \n",
            "epoch : 64\n",
            "training loss: 0.8733 \n",
            "validation loss: 0.8718 \n",
            "epoch : 65\n",
            "training loss: 0.8731 \n",
            "validation loss: 0.8714 \n",
            "epoch : 66\n",
            "training loss: 0.8728 \n",
            "validation loss: 0.8712 \n",
            "epoch : 67\n",
            "training loss: 0.8726 \n",
            "validation loss: 0.8710 \n",
            "epoch : 68\n",
            "training loss: 0.8724 \n",
            "validation loss: 0.8708 \n",
            "epoch : 69\n",
            "training loss: 0.8722 \n",
            "validation loss: 0.8706 \n",
            "epoch : 70\n",
            "training loss: 0.8720 \n",
            "validation loss: 0.8703 \n",
            "epoch : 71\n",
            "training loss: 0.8718 \n",
            "validation loss: 0.8702 \n",
            "epoch : 72\n",
            "training loss: 0.8716 \n",
            "validation loss: 0.8701 \n",
            "epoch : 73\n",
            "training loss: 0.8714 \n",
            "validation loss: 0.8699 \n",
            "epoch : 74\n",
            "training loss: 0.8713 \n",
            "validation loss: 0.8699 \n",
            "epoch : 75\n",
            "training loss: 0.8711 \n",
            "validation loss: 0.8697 \n",
            "epoch : 76\n",
            "training loss: 0.8709 \n",
            "validation loss: 0.8694 \n",
            "epoch : 77\n",
            "training loss: 0.8708 \n",
            "validation loss: 0.8694 \n",
            "epoch : 78\n",
            "training loss: 0.8706 \n",
            "validation loss: 0.8692 \n",
            "epoch : 79\n",
            "training loss: 0.8705 \n",
            "validation loss: 0.8690 \n",
            "epoch : 80\n",
            "training loss: 0.8703 \n",
            "validation loss: 0.8689 \n",
            "epoch : 81\n",
            "training loss: 0.8701 \n",
            "validation loss: 0.8686 \n",
            "epoch : 82\n",
            "training loss: 0.8700 \n",
            "validation loss: 0.8685 \n",
            "epoch : 83\n",
            "training loss: 0.8699 \n",
            "validation loss: 0.8685 \n",
            "epoch : 84\n",
            "training loss: 0.8697 \n",
            "validation loss: 0.8682 \n",
            "epoch : 85\n",
            "training loss: 0.8696 \n",
            "validation loss: 0.8682 \n",
            "epoch : 86\n",
            "training loss: 0.8695 \n",
            "validation loss: 0.8683 \n",
            "epoch : 87\n",
            "training loss: 0.8693 \n",
            "validation loss: 0.8678 \n",
            "epoch : 88\n",
            "training loss: 0.8692 \n",
            "validation loss: 0.8678 \n",
            "epoch : 89\n",
            "training loss: 0.8691 \n",
            "validation loss: 0.8676 \n",
            "epoch : 90\n",
            "training loss: 0.8689 \n",
            "validation loss: 0.8674 \n",
            "epoch : 91\n",
            "training loss: 0.8688 \n",
            "validation loss: 0.8673 \n",
            "epoch : 92\n",
            "training loss: 0.8687 \n",
            "validation loss: 0.8672 \n",
            "epoch : 94\n",
            "training loss: 0.8685 \n",
            "validation loss: 0.8671 \n",
            "epoch : 95\n",
            "training loss: 0.8684 \n",
            "validation loss: 0.8670 \n",
            "epoch : 96\n",
            "training loss: 0.8683 \n",
            "validation loss: 0.8670 \n",
            "epoch : 97\n",
            "training loss: 0.8682 \n",
            "validation loss: 0.8670 \n",
            "epoch : 98\n",
            "training loss: 0.8681 \n",
            "validation loss: 0.8668 \n",
            "epoch : 99\n",
            "training loss: 0.8680 \n",
            "validation loss: 0.8668 \n",
            "epoch : 100\n",
            "training loss: 0.8680 \n",
            "validation loss: 0.8666 \n"
          ],
          "name": "stdout"
        }
      ]
    },
    {
      "cell_type": "code",
      "metadata": {
        "id": "yKSJHW7rLG8o",
        "colab_type": "code",
        "colab": {}
      },
      "source": [
        "def plot_loss(training_losses, testing_losses):\n",
        "  plt.plot(training_losses, label='training loss')\n",
        "  plt.plot(testing_losses, label='testing loss')\n",
        "  plt.legend()"
      ],
      "execution_count": 12,
      "outputs": []
    },
    {
      "cell_type": "code",
      "metadata": {
        "id": "x-R5qy70dVyB",
        "colab_type": "code",
        "colab": {
          "base_uri": "https://localhost:8080/",
          "height": 265
        },
        "outputId": "1de99f80-17f1-4608-e89f-260e69c05939"
      },
      "source": [
        "plot_loss(training_losses, test_losses)"
      ],
      "execution_count": 13,
      "outputs": [
        {
          "output_type": "display_data",
          "data": {
            "image/png": "[encoded data removed]",
            "text/plain": [
              "<Figure size 432x288 with 1 Axes>"
            ]
          },
          "metadata": {
            "tags": [],
            "needs_background": "light"
          }
        }
      ]
    },
    {
      "cell_type": "markdown",
      "metadata": {
        "id": "79ZC5g_LdvhI",
        "colab_type": "text"
      },
      "source": [
        "### Now let's see how well this autoencoder regenerates the images in the MNIST validation dataset"
      ]
    },
    {
      "cell_type": "markdown",
      "metadata": {
        "id": "e-eUIzyBd7sj",
        "colab_type": "text"
      },
      "source": [
        "We'll input 20 images from the validation set and see the outputs"
      ]
    },
    {
      "cell_type": "code",
      "metadata": {
        "id": "DUqEep4sdcJv",
        "colab_type": "code",
        "colab": {}
      },
      "source": [
        "def im_convert(tensor):\n",
        "  image = tensor.cpu().clone().detach().numpy()\n",
        "  image = image.transpose(1, 2, 0)\n",
        "  image = image * np.array((0.5, 0.5, 0.5)) + np.array((0.5, 0.5, 0.5))\n",
        "  image = image.clip(0, 1)\n",
        "  return image"
      ],
      "execution_count": 14,
      "outputs": []
    },
    {
      "cell_type": "code",
      "metadata": {
        "id": "9RBa1pNfdcHd",
        "colab_type": "code",
        "colab": {}
      },
      "source": [
        "def output_convert(image):\n",
        "  img = image.view(28, 28)\n",
        "  img = img.cpu().clone().detach().numpy()\n",
        "  return img"
      ],
      "execution_count": 15,
      "outputs": []
    },
    {
      "cell_type": "code",
      "metadata": {
        "id": "EVcEcPT1lswC",
        "colab_type": "code",
        "colab": {}
      },
      "source": [
        "data = iter(validation_loader)\n",
        "images, labels = data.next()"
      ],
      "execution_count": 16,
      "outputs": []
    },
    {
      "cell_type": "markdown",
      "metadata": {
        "id": "B8EoEt4VeBfR",
        "colab_type": "text"
      },
      "source": [
        "#### The input images"
      ]
    },
    {
      "cell_type": "code",
      "metadata": {
        "id": "mheslUqsdcE5",
        "colab_type": "code",
        "colab": {
          "base_uri": "https://localhost:8080/",
          "height": 252
        },
        "outputId": "0c42c879-f04a-47e2-ab3f-a4544efd6363"
      },
      "source": [
        "fig = plt.figure(figsize=(25, 4))\n",
        "\n",
        "for idx in np.arange(20):\n",
        "  ax = fig.add_subplot(2, 10, idx+1, xticks=[], yticks=[])\n",
        "  plt.imshow(im_convert(images[idx]))\n",
        "  ax.set_title([labels[idx].item()])"
      ],
      "execution_count": 17,
      "outputs": [
        {
          "output_type": "display_data",
          "data": {
            "image/png": "[encoded data removed]",
            "text/plain": [
              "<Figure size 1800x288 with 20 Axes>"
            ]
          },
          "metadata": {
            "tags": []
          }
        }
      ]
    },
    {
      "cell_type": "code",
      "metadata": {
        "id": "OBBEWwS2l43h",
        "colab_type": "code",
        "colab": {}
      },
      "source": [
        "imgs = images.to(device)\n",
        "imgs = imgs.view(imgs.shape[0], -1)\n",
        "reconstructed = model.forward(imgs)"
      ],
      "execution_count": 18,
      "outputs": []
    },
    {
      "cell_type": "markdown",
      "metadata": {
        "id": "c2lA6KkReE-W",
        "colab_type": "text"
      },
      "source": [
        "#### The output images"
      ]
    },
    {
      "cell_type": "code",
      "metadata": {
        "id": "0tT6wMZNdb59",
        "colab_type": "code",
        "colab": {
          "base_uri": "https://localhost:8080/",
          "height": 237
        },
        "outputId": "8aa4229a-32c2-4abc-84d1-3c894f10ed33"
      },
      "source": [
        "fig = plt.figure(figsize=(25, 4))\n",
        "\n",
        "for idx in np.arange(20):\n",
        "  ax = fig.add_subplot(2, 10, idx+1, xticks=[], yticks=[])\n",
        "  plt.imshow(output_convert(reconstructed[idx]))"
      ],
      "execution_count": 19,
      "outputs": [
        {
          "output_type": "display_data",
          "data": {
            "image/png": "[encoded data removed]",
            "text/plain": [
              "<Figure size 1800x288 with 20 Axes>"
            ]
          },
          "metadata": {
            "tags": []
          }
        }
      ]
    },
    {
      "cell_type": "code",
      "metadata": {
        "id": "cC_kp5VVgG28",
        "colab_type": "code",
        "colab": {}
      },
      "source": [
        ""
      ],
      "execution_count": null,
      "outputs": []
    }
  ]
}