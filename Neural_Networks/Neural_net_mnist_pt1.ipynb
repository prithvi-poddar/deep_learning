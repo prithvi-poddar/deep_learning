{
 "cells": [
  {
   "cell_type": "markdown",
   "metadata": {
    "id": "GcJclLmmmiVb"
   },
   "source": [
    "# Exercise: Neural Network Basics in Keras\n",
    "\n",
    "# Prithvi Poddar (17191)"
   ]
  },
  {
   "cell_type": "markdown",
   "metadata": {
    "id": "ezgr0yA9_nTe"
   },
   "source": [
    "# Part One:\n",
    "\n",
    "---    \n",
    "### Building model with single hidden layer and more than 300,000 trainable parameter.\n"
   ]
  },
  {
   "cell_type": "code",
   "execution_count": null,
   "metadata": {
    "id": "Lfg5UmzIBk0W"
   },
   "outputs": [],
   "source": [
    "#importng the desired libraries\n",
    "from matplotlib import pyplot as plt\n",
    "from tensorflow.keras.datasets import mnist\n",
    "from tensorflow.keras.models import Sequential\n",
    "from tensorflow.keras.layers import Dense, Dropout\n",
    "from tensorflow.keras.utils import to_categorical\n",
    "import numpy as np"
   ]
  },
  {
   "cell_type": "code",
   "execution_count": null,
   "metadata": {
    "id": "fYw8G2efCfrw"
   },
   "outputs": [],
   "source": [
    "mnist_num_classes = 10 \n",
    "mnist_image_size = 784\n",
    "\n",
    "(train_images, train_labels), (test_images, test_labels) = mnist.load_data()"
   ]
  },
  {
   "cell_type": "code",
   "execution_count": null,
   "metadata": {
    "id": "6XP7xDMcC5eB"
   },
   "outputs": [],
   "source": [
    "train_data = train_images.reshape(train_images.shape[0], mnist_image_size)\n",
    "test_data = test_images.reshape(test_images.shape[0], mnist_image_size)"
   ]
  },
  {
   "cell_type": "code",
   "execution_count": null,
   "metadata": {
    "id": "gmaKHHRqF5Yp"
   },
   "outputs": [],
   "source": [
    "train_labels = to_categorical(train_labels, mnist_num_classes)\n",
    "test_labels = to_categorical(test_labels, mnist_num_classes)"
   ]
  },
  {
   "cell_type": "code",
   "execution_count": null,
   "metadata": {
    "id": "soJgnjrQJJjL"
   },
   "outputs": [],
   "source": [
    "def plot_training_history(history, model):\n",
    "    figure = plt.figure()\n",
    "\n",
    "    plt.subplot(1, 2, 1)\n",
    "    plt.plot(history.history['accuracy'])\n",
    "    plt.plot(history.history['val_accuracy'])\n",
    "    plt.title('model accuracy')\n",
    "    plt.ylabel('accuracy')\n",
    "    plt.xlabel('epoch')\n",
    "    plt.legend(['training', 'validation'], loc='best')\n",
    "    plt.tight_layout()\n",
    "\n",
    "    plt.subplot(1, 2, 2)\n",
    "    plt.plot(history.history['loss'])\n",
    "    plt.plot(history.history['val_loss'])\n",
    "    plt.title('model loss')\n",
    "    plt.ylabel('loss')\n",
    "    plt.xlabel('epoch')\n",
    "    plt.legend(['training', 'validation'], loc='best')\n",
    "    plt.tight_layout()\n",
    "\n",
    "    figure.tight_layout()\n",
    "    plt.tight_layout()\n",
    "    plt.show()\n",
    "    \n",
    "    loss, accuracy  = model.evaluate(test_data, test_labels, verbose=True)\n",
    "\n",
    "    print(f'Test loss: {loss:.3}')\n",
    "    print(f'Test accuracy: {accuracy:.3}')"
   ]
  },
  {
   "cell_type": "code",
   "execution_count": null,
   "metadata": {
    "colab": {
     "base_uri": "https://localhost:8080/"
    },
    "id": "BGeb1sVZN0Om",
    "outputId": "59a3ec55-ef2e-4292-8dbd-5093eff998c1"
   },
   "outputs": [
    {
     "name": "stdout",
     "output_type": "stream",
     "text": [
      "Model: \"sequential_1\"\n",
      "_________________________________________________________________\n",
      "Layer (type)                 Output Shape              Param #   \n",
      "=================================================================\n",
      "dense_2 (Dense)              (None, 400)               314000    \n",
      "_________________________________________________________________\n",
      "dense_3 (Dense)              (None, 10)                4010      \n",
      "=================================================================\n",
      "Total params: 318,010\n",
      "Trainable params: 318,010\n",
      "Non-trainable params: 0\n",
      "_________________________________________________________________\n"
     ]
    }
   ],
   "source": [
    "model_1 = Sequential()\n",
    "model_1.add(Dense(units = 400, activation='sigmoid', input_shape=(mnist_image_size,)))\n",
    "model_1.add(Dense(units=mnist_num_classes, activation='softmax'))\n",
    "model_1.compile(optimizer=\"sgd\", loss='categorical_crossentropy', metrics=['accuracy'])\n",
    "model_1.summary()"
   ]
  },
  {
   "cell_type": "code",
   "execution_count": null,
   "metadata": {
    "colab": {
     "base_uri": "https://localhost:8080/"
    },
    "id": "evBT71loQKtx",
    "outputId": "91aa972a-64c2-4a17-8e69-fa84928edf38"
   },
   "outputs": [
    {
     "name": "stdout",
     "output_type": "stream",
     "text": [
      "(784, 400)\n",
      "(400,)\n"
     ]
    }
   ],
   "source": [
    "weights, biases = model_1.layers[0].get_weights()\n",
    "print(weights.shape)\n",
    "print(biases.shape)"
   ]
  },
  {
   "cell_type": "code",
   "execution_count": null,
   "metadata": {
    "colab": {
     "base_uri": "https://localhost:8080/",
     "height": 688
    },
    "id": "2nC0_R0rR5Yi",
    "outputId": "8559c907-115c-4f5e-9dee-9b0ddab77d20"
   },
   "outputs": [
    {
     "name": "stdout",
     "output_type": "stream",
     "text": [
      "Epoch 1/10\n",
      "1688/1688 [==============================] - 4s 2ms/step - loss: 0.5070 - accuracy: 0.8672 - val_loss: 0.2801 - val_accuracy: 0.9267\n",
      "Epoch 2/10\n",
      "1688/1688 [==============================] - 4s 2ms/step - loss: 0.2922 - accuracy: 0.9200 - val_loss: 0.2198 - val_accuracy: 0.9425\n",
      "Epoch 3/10\n",
      "1688/1688 [==============================] - 4s 2ms/step - loss: 0.2419 - accuracy: 0.9319 - val_loss: 0.1943 - val_accuracy: 0.9482\n",
      "Epoch 4/10\n",
      "1688/1688 [==============================] - 4s 2ms/step - loss: 0.2167 - accuracy: 0.9396 - val_loss: 0.1775 - val_accuracy: 0.9528\n",
      "Epoch 5/10\n",
      "1688/1688 [==============================] - 4s 2ms/step - loss: 0.1996 - accuracy: 0.9437 - val_loss: 0.1653 - val_accuracy: 0.9558\n",
      "Epoch 6/10\n",
      "1688/1688 [==============================] - 4s 2ms/step - loss: 0.1846 - accuracy: 0.9480 - val_loss: 0.1606 - val_accuracy: 0.9600\n",
      "Epoch 7/10\n",
      "1688/1688 [==============================] - 4s 2ms/step - loss: 0.1750 - accuracy: 0.9524 - val_loss: 0.1471 - val_accuracy: 0.9623\n",
      "Epoch 8/10\n",
      "1688/1688 [==============================] - 4s 2ms/step - loss: 0.1617 - accuracy: 0.9547 - val_loss: 0.1451 - val_accuracy: 0.9623\n",
      "Epoch 9/10\n",
      "1688/1688 [==============================] - 4s 2ms/step - loss: 0.1535 - accuracy: 0.9569 - val_loss: 0.1408 - val_accuracy: 0.9645\n",
      "Epoch 10/10\n",
      "1688/1688 [==============================] - 4s 2ms/step - loss: 0.1465 - accuracy: 0.9598 - val_loss: 0.1268 - val_accuracy: 0.9668\n"
     ]
    },
    {
     "data": {
      "image/png": "[encoded data removed]",
      "text/plain": [
       "<Figure size 432x288 with 2 Axes>"
      ]
     },
     "metadata": {
      "needs_background": "light",
      "tags": []
     },
     "output_type": "display_data"
    },
    {
     "name": "stdout",
     "output_type": "stream",
     "text": [
      "313/313 [==============================] - 1s 2ms/step - loss: 0.1507 - accuracy: 0.9568\n",
      "Test loss: 0.151\n",
      "Test accuracy: 0.957\n"
     ]
    }
   ],
   "source": [
    "history = model_1.fit(train_data, train_labels, batch_size=32, epochs=10, verbose=True, validation_split=0.1)\n",
    "plot_training_history(history, model_1)"
   ]
  },
  {
   "cell_type": "markdown",
   "metadata": {
    "id": "LsQYQGAvn7R-"
   },
   "source": [
    "-> The model above, has **318010 trainable parameters**. It has a **single hidden layer with 400 nodes.**    \n",
    "-> Number of **weights in the model is 784 x 400 = 313600** and the **number of biases are 400**.    \n",
    "-> After 10 epochs, we can see that the model has similar performance on training, testing and validation sets. **Training accuracy is 95.98%, validation accuracy is 96.68% and test accuracy is 95.68%.**    \n",
    "-> Each epoch took 4 seconds to complete, on google Colab cloud gpu"
   ]
  },
  {
   "cell_type": "markdown",
   "metadata": {
    "id": "Ls6Ll5ectkKk"
   },
   "source": [
    "### Building model with single hidden layer and fewer than 50,000 trainable parameter."
   ]
  },
  {
   "cell_type": "code",
   "execution_count": null,
   "metadata": {
    "colab": {
     "base_uri": "https://localhost:8080/"
    },
    "id": "bMmOb2gRVFcv",
    "outputId": "b32be649-b19a-4d0d-92ae-f4b369ed9de4"
   },
   "outputs": [
    {
     "name": "stdout",
     "output_type": "stream",
     "text": [
      "Model: \"sequential_2\"\n",
      "_________________________________________________________________\n",
      "Layer (type)                 Output Shape              Param #   \n",
      "=================================================================\n",
      "dense_4 (Dense)              (None, 64)                50240     \n",
      "_________________________________________________________________\n",
      "dense_5 (Dense)              (None, 10)                650       \n",
      "=================================================================\n",
      "Total params: 50,890\n",
      "Trainable params: 50,890\n",
      "Non-trainable params: 0\n",
      "_________________________________________________________________\n"
     ]
    }
   ],
   "source": [
    "model_1 = Sequential()\n",
    "model_1.add(Dense(units = 64, activation='sigmoid', input_shape=(mnist_image_size,)))\n",
    "model_1.add(Dense(units=mnist_num_classes, activation='softmax'))\n",
    "model_1.compile(optimizer=\"sgd\", loss='categorical_crossentropy', metrics=['accuracy'])\n",
    "model_1.summary()"
   ]
  },
  {
   "cell_type": "code",
   "execution_count": null,
   "metadata": {
    "colab": {
     "base_uri": "https://localhost:8080/"
    },
    "id": "YIkP6YF2WeHV",
    "outputId": "2cddd167-6c3c-4f42-c401-609170f9c13b"
   },
   "outputs": [
    {
     "name": "stdout",
     "output_type": "stream",
     "text": [
      "(784, 64)\n",
      "(64,)\n"
     ]
    }
   ],
   "source": [
    "weights, biases = model_1.layers[0].get_weights()\n",
    "print(weights.shape)\n",
    "print(biases.shape)"
   ]
  },
  {
   "cell_type": "code",
   "execution_count": null,
   "metadata": {
    "colab": {
     "base_uri": "https://localhost:8080/",
     "height": 688
    },
    "id": "csV_JbbKWm47",
    "outputId": "93f7aa71-7da2-428a-d617-155bf54edc69"
   },
   "outputs": [
    {
     "name": "stdout",
     "output_type": "stream",
     "text": [
      "Epoch 1/10\n",
      "1688/1688 [==============================] - 4s 2ms/step - loss: 0.8455 - accuracy: 0.7876 - val_loss: 0.4749 - val_accuracy: 0.8912\n",
      "Epoch 2/10\n",
      "1688/1688 [==============================] - 4s 2ms/step - loss: 0.4711 - accuracy: 0.8773 - val_loss: 0.3577 - val_accuracy: 0.9143\n",
      "Epoch 3/10\n",
      "1688/1688 [==============================] - 4s 2ms/step - loss: 0.4042 - accuracy: 0.8911 - val_loss: 0.3283 - val_accuracy: 0.9170\n",
      "Epoch 4/10\n",
      "1688/1688 [==============================] - 4s 2ms/step - loss: 0.3651 - accuracy: 0.8980 - val_loss: 0.3022 - val_accuracy: 0.9193\n",
      "Epoch 5/10\n",
      "1688/1688 [==============================] - 4s 2ms/step - loss: 0.3483 - accuracy: 0.9026 - val_loss: 0.2820 - val_accuracy: 0.9227\n",
      "Epoch 6/10\n",
      "1688/1688 [==============================] - 4s 2ms/step - loss: 0.3372 - accuracy: 0.9057 - val_loss: 0.2679 - val_accuracy: 0.9297\n",
      "Epoch 7/10\n",
      "1688/1688 [==============================] - 4s 2ms/step - loss: 0.3159 - accuracy: 0.9099 - val_loss: 0.2699 - val_accuracy: 0.9253\n",
      "Epoch 8/10\n",
      "1688/1688 [==============================] - 4s 2ms/step - loss: 0.3032 - accuracy: 0.9132 - val_loss: 0.2414 - val_accuracy: 0.9335\n",
      "Epoch 9/10\n",
      "1688/1688 [==============================] - 4s 2ms/step - loss: 0.2960 - accuracy: 0.9151 - val_loss: 0.2501 - val_accuracy: 0.9298\n",
      "Epoch 10/10\n",
      "1688/1688 [==============================] - 4s 2ms/step - loss: 0.2965 - accuracy: 0.9153 - val_loss: 0.2292 - val_accuracy: 0.9377\n"
     ]
    },
    {
     "data": {
      "image/png": "[encoded data removed]",
      "text/plain": [
       "<Figure size 432x288 with 2 Axes>"
      ]
     },
     "metadata": {
      "needs_background": "light",
      "tags": []
     },
     "output_type": "display_data"
    },
    {
     "name": "stdout",
     "output_type": "stream",
     "text": [
      "313/313 [==============================] - 1s 2ms/step - loss: 0.2727 - accuracy: 0.9209\n",
      "Test loss: 0.273\n",
      "Test accuracy: 0.921\n"
     ]
    }
   ],
   "source": [
    "history = model_1.fit(train_data, train_labels, batch_size=32, epochs=10, verbose=True, validation_split=0.1)\n",
    "plot_training_history(history, model_1)"
   ]
  },
  {
   "cell_type": "markdown",
   "metadata": {
    "id": "vqaqpJLFuL3s"
   },
   "source": [
    "-> The model above, has **50890 trainable parameters**. It has a **single hidden layer with 64 nodes.**    \n",
    "-> Number of **weights in the model is 784 x 64 = 50176** and the **number of biases are 64**.    \n",
    "-> After 10 epochs, we can see that the model has similar performance on training, testing and validation sets. **Training accuracy is 91.53%, validation accuracy is 93.77% and test accuracy is 93.77%.**    \n",
    "-> Each epoch took 4 seconds to complete, on google Colab cloud gpu"
   ]
  },
  {
   "cell_type": "markdown",
   "metadata": {
    "id": "2fDNjaF6WtEu"
   },
   "source": [
    "# Part two:   \n",
    "\n",
    "---   \n",
    "1. First model has 15 hidden layers with 9 nodes each    \n",
    "2. Second model has 15 hidden layers with 41 nodes each    \n",
    "3. Third model has 15 hidden layers with 97 nodes each"
   ]
  },
  {
   "cell_type": "code",
   "execution_count": null,
   "metadata": {
    "colab": {
     "base_uri": "https://localhost:8080/"
    },
    "id": "dpkcKzArXJ8j",
    "outputId": "123bce2f-9150-4983-d8ce-f1c209de2796"
   },
   "outputs": [
    {
     "name": "stdout",
     "output_type": "stream",
     "text": [
      "Model: \"sequential_3\"\n",
      "_________________________________________________________________\n",
      "Layer (type)                 Output Shape              Param #   \n",
      "=================================================================\n",
      "dense_6 (Dense)              (None, 9)                 7065      \n",
      "_________________________________________________________________\n",
      "dense_7 (Dense)              (None, 9)                 90        \n",
      "_________________________________________________________________\n",
      "dense_8 (Dense)              (None, 9)                 90        \n",
      "_________________________________________________________________\n",
      "dense_9 (Dense)              (None, 9)                 90        \n",
      "_________________________________________________________________\n",
      "dense_10 (Dense)             (None, 9)                 90        \n",
      "_________________________________________________________________\n",
      "dense_11 (Dense)             (None, 9)                 90        \n",
      "_________________________________________________________________\n",
      "dense_12 (Dense)             (None, 9)                 90        \n",
      "_________________________________________________________________\n",
      "dense_13 (Dense)             (None, 9)                 90        \n",
      "_________________________________________________________________\n",
      "dense_14 (Dense)             (None, 9)                 90        \n",
      "_________________________________________________________________\n",
      "dense_15 (Dense)             (None, 9)                 90        \n",
      "_________________________________________________________________\n",
      "dense_16 (Dense)             (None, 9)                 90        \n",
      "_________________________________________________________________\n",
      "dense_17 (Dense)             (None, 9)                 90        \n",
      "_________________________________________________________________\n",
      "dense_18 (Dense)             (None, 9)                 90        \n",
      "_________________________________________________________________\n",
      "dense_19 (Dense)             (None, 9)                 90        \n",
      "_________________________________________________________________\n",
      "dense_20 (Dense)             (None, 9)                 90        \n",
      "_________________________________________________________________\n",
      "dense_21 (Dense)             (None, 9)                 90        \n",
      "_________________________________________________________________\n",
      "dense_22 (Dense)             (None, 10)                100       \n",
      "=================================================================\n",
      "Total params: 8,515\n",
      "Trainable params: 8,515\n",
      "Non-trainable params: 0\n",
      "_________________________________________________________________\n"
     ]
    }
   ],
   "source": [
    "model_2_1 = Sequential()\n",
    "model_2_1.add(Dense(units = 9, activation='sigmoid', input_shape=(mnist_image_size,)))\n",
    "for _ in range(15):\n",
    "    model_2_1.add(Dense(units = 9, activation = 'sigmoid'))\n",
    "model_2_1.add(Dense(units=mnist_num_classes, activation='softmax'))\n",
    "model_2_1.compile(optimizer=\"sgd\", loss='categorical_crossentropy', metrics=['accuracy'])\n",
    "model_2_1.summary()"
   ]
  },
  {
   "cell_type": "code",
   "execution_count": null,
   "metadata": {
    "colab": {
     "base_uri": "https://localhost:8080/",
     "height": 688
    },
    "id": "aBjZGzDuYMQ9",
    "outputId": "b4b95ba4-69c1-4d1f-fc37-3bbd8277801d"
   },
   "outputs": [
    {
     "name": "stdout",
     "output_type": "stream",
     "text": [
      "Epoch 1/10\n",
      "1688/1688 [==============================] - 6s 4ms/step - loss: 2.3114 - accuracy: 0.1090 - val_loss: 2.3022 - val_accuracy: 0.1050\n",
      "Epoch 2/10\n",
      "1688/1688 [==============================] - 6s 3ms/step - loss: 2.3013 - accuracy: 0.1132 - val_loss: 2.3021 - val_accuracy: 0.1050\n",
      "Epoch 3/10\n",
      "1688/1688 [==============================] - 6s 3ms/step - loss: 2.3013 - accuracy: 0.1132 - val_loss: 2.3017 - val_accuracy: 0.1050\n",
      "Epoch 4/10\n",
      "1688/1688 [==============================] - 6s 3ms/step - loss: 2.3013 - accuracy: 0.1132 - val_loss: 2.3020 - val_accuracy: 0.1050\n",
      "Epoch 5/10\n",
      "1688/1688 [==============================] - 6s 4ms/step - loss: 2.3013 - accuracy: 0.1132 - val_loss: 2.3021 - val_accuracy: 0.1050\n",
      "Epoch 6/10\n",
      "1688/1688 [==============================] - 6s 3ms/step - loss: 2.3013 - accuracy: 0.1132 - val_loss: 2.3022 - val_accuracy: 0.1050\n",
      "Epoch 7/10\n",
      "1688/1688 [==============================] - 6s 3ms/step - loss: 2.3014 - accuracy: 0.1132 - val_loss: 2.3020 - val_accuracy: 0.1050\n",
      "Epoch 8/10\n",
      "1688/1688 [==============================] - 6s 4ms/step - loss: 2.3014 - accuracy: 0.1132 - val_loss: 2.3020 - val_accuracy: 0.1050\n",
      "Epoch 9/10\n",
      "1688/1688 [==============================] - 5s 3ms/step - loss: 2.3014 - accuracy: 0.1132 - val_loss: 2.3018 - val_accuracy: 0.1050\n",
      "Epoch 10/10\n",
      "1688/1688 [==============================] - 6s 3ms/step - loss: 2.3013 - accuracy: 0.1132 - val_loss: 2.3025 - val_accuracy: 0.1050\n"
     ]
    },
    {
     "data": {
      "image/png": "[encoded data removed]",
      "text/plain": [
       "<Figure size 432x288 with 2 Axes>"
      ]
     },
     "metadata": {
      "needs_background": "light",
      "tags": []
     },
     "output_type": "display_data"
    },
    {
     "name": "stdout",
     "output_type": "stream",
     "text": [
      "313/313 [==============================] - 1s 2ms/step - loss: 2.3013 - accuracy: 0.1135\n",
      "Test loss: 2.3\n",
      "Test accuracy: 0.113\n"
     ]
    }
   ],
   "source": [
    "history = model_2_1.fit(train_data, train_labels, batch_size=32, epochs=10, verbose=True, validation_split=0.1)\n",
    "plot_training_history(history, model_2_1)"
   ]
  },
  {
   "cell_type": "code",
   "execution_count": null,
   "metadata": {
    "colab": {
     "base_uri": "https://localhost:8080/"
    },
    "id": "7DZtvWf_ZXaY",
    "outputId": "85a1c146-b9ed-476b-9ae0-a40604bf1233"
   },
   "outputs": [
    {
     "name": "stdout",
     "output_type": "stream",
     "text": [
      "Model: \"sequential_4\"\n",
      "_________________________________________________________________\n",
      "Layer (type)                 Output Shape              Param #   \n",
      "=================================================================\n",
      "dense_23 (Dense)             (None, 41)                32185     \n",
      "_________________________________________________________________\n",
      "dense_24 (Dense)             (None, 41)                1722      \n",
      "_________________________________________________________________\n",
      "dense_25 (Dense)             (None, 41)                1722      \n",
      "_________________________________________________________________\n",
      "dense_26 (Dense)             (None, 41)                1722      \n",
      "_________________________________________________________________\n",
      "dense_27 (Dense)             (None, 41)                1722      \n",
      "_________________________________________________________________\n",
      "dense_28 (Dense)             (None, 41)                1722      \n",
      "_________________________________________________________________\n",
      "dense_29 (Dense)             (None, 41)                1722      \n",
      "_________________________________________________________________\n",
      "dense_30 (Dense)             (None, 41)                1722      \n",
      "_________________________________________________________________\n",
      "dense_31 (Dense)             (None, 41)                1722      \n",
      "_________________________________________________________________\n",
      "dense_32 (Dense)             (None, 41)                1722      \n",
      "_________________________________________________________________\n",
      "dense_33 (Dense)             (None, 41)                1722      \n",
      "_________________________________________________________________\n",
      "dense_34 (Dense)             (None, 41)                1722      \n",
      "_________________________________________________________________\n",
      "dense_35 (Dense)             (None, 41)                1722      \n",
      "_________________________________________________________________\n",
      "dense_36 (Dense)             (None, 41)                1722      \n",
      "_________________________________________________________________\n",
      "dense_37 (Dense)             (None, 41)                1722      \n",
      "_________________________________________________________________\n",
      "dense_38 (Dense)             (None, 41)                1722      \n",
      "_________________________________________________________________\n",
      "dense_39 (Dense)             (None, 10)                420       \n",
      "=================================================================\n",
      "Total params: 58,435\n",
      "Trainable params: 58,435\n",
      "Non-trainable params: 0\n",
      "_________________________________________________________________\n"
     ]
    }
   ],
   "source": [
    "model_2_2 = Sequential()\n",
    "model_2_2.add(Dense(units = 41, activation='sigmoid', input_shape=(mnist_image_size,)))\n",
    "for _ in range(15):\n",
    "    model_2_2.add(Dense(units = 41, activation = 'sigmoid'))\n",
    "model_2_2.add(Dense(units=mnist_num_classes, activation='softmax'))\n",
    "model_2_2.compile(optimizer=\"sgd\", loss='categorical_crossentropy', metrics=['accuracy'])\n",
    "model_2_2.summary()"
   ]
  },
  {
   "cell_type": "code",
   "execution_count": null,
   "metadata": {
    "colab": {
     "base_uri": "https://localhost:8080/",
     "height": 688
    },
    "id": "jm09XDrmcqvS",
    "outputId": "1616d92e-263e-4395-b605-3ace024c1628"
   },
   "outputs": [
    {
     "name": "stdout",
     "output_type": "stream",
     "text": [
      "Epoch 1/10\n",
      "1688/1688 [==============================] - 6s 3ms/step - loss: 2.3084 - accuracy: 0.1113 - val_loss: 2.3032 - val_accuracy: 0.1050\n",
      "Epoch 2/10\n",
      "1688/1688 [==============================] - 5s 3ms/step - loss: 2.3020 - accuracy: 0.1106 - val_loss: 2.3033 - val_accuracy: 0.1050\n",
      "Epoch 3/10\n",
      "1688/1688 [==============================] - 5s 3ms/step - loss: 2.3020 - accuracy: 0.1109 - val_loss: 2.3036 - val_accuracy: 0.1050\n",
      "Epoch 4/10\n",
      "1688/1688 [==============================] - 6s 4ms/step - loss: 2.3023 - accuracy: 0.1117 - val_loss: 2.3024 - val_accuracy: 0.1050\n",
      "Epoch 5/10\n",
      "1688/1688 [==============================] - 6s 3ms/step - loss: 2.3020 - accuracy: 0.1120 - val_loss: 2.3029 - val_accuracy: 0.1050\n",
      "Epoch 6/10\n",
      "1688/1688 [==============================] - 6s 4ms/step - loss: 2.3021 - accuracy: 0.1126 - val_loss: 2.3027 - val_accuracy: 0.1050\n",
      "Epoch 7/10\n",
      "1688/1688 [==============================] - 6s 3ms/step - loss: 2.3022 - accuracy: 0.1127 - val_loss: 2.3030 - val_accuracy: 0.1050\n",
      "Epoch 8/10\n",
      "1688/1688 [==============================] - 6s 3ms/step - loss: 2.3020 - accuracy: 0.1122 - val_loss: 2.3022 - val_accuracy: 0.1050\n",
      "Epoch 9/10\n",
      "1688/1688 [==============================] - 6s 3ms/step - loss: 2.3021 - accuracy: 0.1112 - val_loss: 2.3030 - val_accuracy: 0.1050\n",
      "Epoch 10/10\n",
      "1688/1688 [==============================] - 6s 3ms/step - loss: 2.3019 - accuracy: 0.1118 - val_loss: 2.3038 - val_accuracy: 0.1050\n"
     ]
    },
    {
     "data": {
      "image/png": "[encoded data removed]",
      "text/plain": [
       "<Figure size 432x288 with 2 Axes>"
      ]
     },
     "metadata": {
      "needs_background": "light",
      "tags": []
     },
     "output_type": "display_data"
    },
    {
     "name": "stdout",
     "output_type": "stream",
     "text": [
      "313/313 [==============================] - 1s 2ms/step - loss: 2.3022 - accuracy: 0.1135\n",
      "Test loss: 2.3\n",
      "Test accuracy: 0.113\n"
     ]
    }
   ],
   "source": [
    "history = model_2_2.fit(train_data, train_labels, batch_size=32, epochs=10, verbose=True, validation_split=0.1)\n",
    "plot_training_history(history, model_2_2)"
   ]
  },
  {
   "cell_type": "code",
   "execution_count": null,
   "metadata": {
    "colab": {
     "base_uri": "https://localhost:8080/"
    },
    "id": "EXiM11fncwFW",
    "outputId": "cd3c76df-c82a-46c6-e639-d8684a5c9c9b"
   },
   "outputs": [
    {
     "name": "stdout",
     "output_type": "stream",
     "text": [
      "Model: \"sequential_5\"\n",
      "_________________________________________________________________\n",
      "Layer (type)                 Output Shape              Param #   \n",
      "=================================================================\n",
      "dense_40 (Dense)             (None, 97)                76145     \n",
      "_________________________________________________________________\n",
      "dense_41 (Dense)             (None, 97)                9506      \n",
      "_________________________________________________________________\n",
      "dense_42 (Dense)             (None, 97)                9506      \n",
      "_________________________________________________________________\n",
      "dense_43 (Dense)             (None, 97)                9506      \n",
      "_________________________________________________________________\n",
      "dense_44 (Dense)             (None, 97)                9506      \n",
      "_________________________________________________________________\n",
      "dense_45 (Dense)             (None, 97)                9506      \n",
      "_________________________________________________________________\n",
      "dense_46 (Dense)             (None, 97)                9506      \n",
      "_________________________________________________________________\n",
      "dense_47 (Dense)             (None, 97)                9506      \n",
      "_________________________________________________________________\n",
      "dense_48 (Dense)             (None, 97)                9506      \n",
      "_________________________________________________________________\n",
      "dense_49 (Dense)             (None, 97)                9506      \n",
      "_________________________________________________________________\n",
      "dense_50 (Dense)             (None, 97)                9506      \n",
      "_________________________________________________________________\n",
      "dense_51 (Dense)             (None, 97)                9506      \n",
      "_________________________________________________________________\n",
      "dense_52 (Dense)             (None, 97)                9506      \n",
      "_________________________________________________________________\n",
      "dense_53 (Dense)             (None, 97)                9506      \n",
      "_________________________________________________________________\n",
      "dense_54 (Dense)             (None, 97)                9506      \n",
      "_________________________________________________________________\n",
      "dense_55 (Dense)             (None, 97)                9506      \n",
      "_________________________________________________________________\n",
      "dense_56 (Dense)             (None, 10)                980       \n",
      "=================================================================\n",
      "Total params: 219,715\n",
      "Trainable params: 219,715\n",
      "Non-trainable params: 0\n",
      "_________________________________________________________________\n"
     ]
    }
   ],
   "source": [
    "model_2_3 = Sequential()\n",
    "model_2_3.add(Dense(units = 97, activation='sigmoid', input_shape=(mnist_image_size,)))\n",
    "for _ in range(15):\n",
    "    model_2_3.add(Dense(units = 97, activation = 'sigmoid'))\n",
    "model_2_3.add(Dense(units=mnist_num_classes, activation='softmax'))\n",
    "model_2_3.compile(optimizer=\"sgd\", loss='categorical_crossentropy', metrics=['accuracy'])\n",
    "model_2_3.summary()"
   ]
  },
  {
   "cell_type": "code",
   "execution_count": null,
   "metadata": {
    "colab": {
     "base_uri": "https://localhost:8080/",
     "height": 688
    },
    "id": "2CCJ5lhndQ4P",
    "outputId": "75b77465-28c7-468c-bd7b-50cc40c44b3a"
   },
   "outputs": [
    {
     "name": "stdout",
     "output_type": "stream",
     "text": [
      "Epoch 1/10\n",
      "1688/1688 [==============================] - 6s 4ms/step - loss: 2.3068 - accuracy: 0.1057 - val_loss: 2.3042 - val_accuracy: 0.1050\n",
      "Epoch 2/10\n",
      "1688/1688 [==============================] - 6s 3ms/step - loss: 2.3033 - accuracy: 0.1086 - val_loss: 2.3040 - val_accuracy: 0.1050\n",
      "Epoch 3/10\n",
      "1688/1688 [==============================] - 6s 3ms/step - loss: 2.3032 - accuracy: 0.1089 - val_loss: 2.3029 - val_accuracy: 0.1050\n",
      "Epoch 4/10\n",
      "1688/1688 [==============================] - 5s 3ms/step - loss: 2.3029 - accuracy: 0.1086 - val_loss: 2.3036 - val_accuracy: 0.1050\n",
      "Epoch 5/10\n",
      "1688/1688 [==============================] - 6s 3ms/step - loss: 2.3032 - accuracy: 0.1100 - val_loss: 2.3029 - val_accuracy: 0.1045\n",
      "Epoch 6/10\n",
      "1688/1688 [==============================] - 6s 4ms/step - loss: 2.3030 - accuracy: 0.1058 - val_loss: 2.3041 - val_accuracy: 0.1050\n",
      "Epoch 7/10\n",
      "1688/1688 [==============================] - 6s 3ms/step - loss: 2.3030 - accuracy: 0.1091 - val_loss: 2.3019 - val_accuracy: 0.1050\n",
      "Epoch 8/10\n",
      "1688/1688 [==============================] - 5s 3ms/step - loss: 2.3031 - accuracy: 0.1093 - val_loss: 2.3044 - val_accuracy: 0.1050\n",
      "Epoch 9/10\n",
      "1688/1688 [==============================] - 5s 3ms/step - loss: 2.3032 - accuracy: 0.1084 - val_loss: 2.3046 - val_accuracy: 0.1050\n",
      "Epoch 10/10\n",
      "1688/1688 [==============================] - 5s 3ms/step - loss: 2.3031 - accuracy: 0.1087 - val_loss: 2.3054 - val_accuracy: 0.1050\n"
     ]
    },
    {
     "data": {
      "image/png": "[encoded data removed]",
      "text/plain": [
       "<Figure size 432x288 with 2 Axes>"
      ]
     },
     "metadata": {
      "needs_background": "light",
      "tags": []
     },
     "output_type": "display_data"
    },
    {
     "name": "stdout",
     "output_type": "stream",
     "text": [
      "313/313 [==============================] - 1s 2ms/step - loss: 2.3039 - accuracy: 0.1135\n",
      "Test loss: 2.3\n",
      "Test accuracy: 0.113\n"
     ]
    }
   ],
   "source": [
    "history = model_2_3.fit(train_data, train_labels, batch_size=32, epochs=10, verbose=True, validation_split=0.1)\n",
    "plot_training_history(history, model_2_3)"
   ]
  },
  {
   "cell_type": "markdown",
   "metadata": {
    "id": "Znm1IJdX1mT5"
   },
   "source": [
    "---   \n",
    "Looking at the results, we can see that none of the models reached even 20% accuracy."
   ]
  },
  {
   "cell_type": "markdown",
   "metadata": {
    "id": "C9kcYulq1_e3"
   },
   "source": [
    "### My hypothesis:   \n",
    "This was due to gradient vanishing. We used sigmoid funtion for activation and stochastic gradient descent for training.   \n",
    "Let us take a look at the sigmoid function and its first derivative:   \n",
    "    \n",
    "$\\sigma(x) = \\frac{1}{1+e^{-x}}$   \n",
    "    \n",
    "$\\frac{\\delta(\\sigma(x))}{\\delta x} = \\frac{1}{1+e^{-x}} [1-\\frac{1}{1+e^{-x}}] $   \n",
    "     \n",
    "Let us plot these equations and see:"
   ]
  },
  {
   "cell_type": "code",
   "execution_count": null,
   "metadata": {
    "colab": {
     "base_uri": "https://localhost:8080/",
     "height": 265
    },
    "id": "dzt48wG64Y65",
    "outputId": "8d9dc94c-80b1-4d29-aa18-70c185e9ddd8"
   },
   "outputs": [
    {
     "data": {
      "image/png": "[encoded data removed]",
      "text/plain": [
       "<Figure size 432x288 with 1 Axes>"
      ]
     },
     "metadata": {
      "needs_background": "light",
      "tags": []
     },
     "output_type": "display_data"
    }
   ],
   "source": [
    "def sigmoid(x):\n",
    "    return (1 / (1 + np.exp(-x)))\n",
    "    \n",
    "def sigmoid_prime(x):\n",
    "    return sigmoid(x) * (1 - sigmoid(x))\n",
    "\n",
    "r = np.linspace(-10, 10, 100)\n",
    "plt.plot(r, sigmoid(r), 'b')\n",
    "plt.plot(r, sigmoid_prime(r), 'r')\n",
    "plt.show()"
   ]
  },
  {
   "cell_type": "markdown",
   "metadata": {
    "id": "Lf6PaVfm4n9C"
   },
   "source": [
    "Notice that at both ends of the range the derivative (red line) approaches 0. In terms of tuning neural networks, this means that the corrections applied based on the loss function can become very small—causing the node to effectively stop learning. As the number of layers increase in the network, the number of derivatives taken increases. This can be shown by the chain rule of differentiation:   \n",
    "$\\frac{\\delta error}{\\delta w1} = \\frac{\\delta error}{\\delta output} * \\frac{\\delta output}{\\delta hidden_n} * \\frac{\\delta hidden_n}{\\delta hidden_{n-1}} * ..... * \\frac{\\delta hidden_1}{\\delta w1}$       \n",
    "This causes multiplication of many small numbers, making the final derivative extremely small. This then results in the vanishing grdient problem."
   ]
  },
  {
   "cell_type": "markdown",
   "metadata": {
    "id": "w9V73DqTSc_n"
   },
   "source": [
    "The first model has 8515 trainable parameters.   \n",
    "The second model has 58435 trainable parameters.    \n",
    "The third model has 219715 trainable parameters.   \n",
    "Yet, all of them performed equally bad. On the other hand, the part one model had 300,000 and 50,000 parameters but they performed really good. Hence we can say that there is **no corelation between number of parameters and accuracy**, when it comes to vanishing gradient problem."
   ]
  },
  {
   "cell_type": "markdown",
   "metadata": {
    "id": "KkAKuOO8dcwy"
   },
   "source": [
    "# Part three:   \n",
    "\n",
    "---   \n",
    "Building a network with at least 3 hidden layers that achieves better than 92% accuracy on validation and test data."
   ]
  },
  {
   "cell_type": "code",
   "execution_count": null,
   "metadata": {
    "colab": {
     "base_uri": "https://localhost:8080/"
    },
    "id": "HhNq9p2mfucN",
    "outputId": "ab4a86e5-ae60-481f-a28f-e368d15c783f"
   },
   "outputs": [
    {
     "name": "stdout",
     "output_type": "stream",
     "text": [
      "Model: \"sequential_6\"\n",
      "_________________________________________________________________\n",
      "Layer (type)                 Output Shape              Param #   \n",
      "=================================================================\n",
      "dense_57 (Dense)             (None, 512)               401920    \n",
      "_________________________________________________________________\n",
      "dense_58 (Dense)             (None, 128)               65664     \n",
      "_________________________________________________________________\n",
      "dense_59 (Dense)             (None, 64)                8256      \n",
      "_________________________________________________________________\n",
      "dense_60 (Dense)             (None, 10)                650       \n",
      "=================================================================\n",
      "Total params: 476,490\n",
      "Trainable params: 476,490\n",
      "Non-trainable params: 0\n",
      "_________________________________________________________________\n"
     ]
    }
   ],
   "source": [
    "model_3 = Sequential()\n",
    "model_3.add(Dense(units = 512, activation='sigmoid', input_shape=(mnist_image_size,)))\n",
    "model_3.add(Dense(units = 128, activation='sigmoid'))\n",
    "model_3.add(Dense(units = 64, activation='sigmoid'))\n",
    "model_3.add(Dense(units=mnist_num_classes, activation='softmax'))\n",
    "model_3.compile(optimizer=\"sgd\", loss='categorical_crossentropy', metrics=['accuracy'])\n",
    "model_3.summary()"
   ]
  },
  {
   "cell_type": "code",
   "execution_count": null,
   "metadata": {
    "colab": {
     "base_uri": "https://localhost:8080/",
     "height": 1000
    },
    "id": "EDQ114ZegEvs",
    "outputId": "2d19ddbd-c30d-42f7-a671-3b7534350396"
   },
   "outputs": [
    {
     "name": "stdout",
     "output_type": "stream",
     "text": [
      "Epoch 1/50\n",
      "1688/1688 [==============================] - 5s 3ms/step - loss: 1.9730 - accuracy: 0.4883 - val_loss: 1.4715 - val_accuracy: 0.7037\n",
      "Epoch 2/50\n",
      "1688/1688 [==============================] - 4s 3ms/step - loss: 1.0646 - accuracy: 0.7712 - val_loss: 0.7079 - val_accuracy: 0.8822\n",
      "Epoch 3/50\n",
      "1688/1688 [==============================] - 4s 3ms/step - loss: 0.6106 - accuracy: 0.8728 - val_loss: 0.4441 - val_accuracy: 0.9153\n",
      "Epoch 4/50\n",
      "1688/1688 [==============================] - 4s 3ms/step - loss: 0.4319 - accuracy: 0.9007 - val_loss: 0.3322 - val_accuracy: 0.9257\n",
      "Epoch 5/50\n",
      "1688/1688 [==============================] - 4s 3ms/step - loss: 0.3461 - accuracy: 0.9158 - val_loss: 0.2765 - val_accuracy: 0.9337\n",
      "Epoch 6/50\n",
      "1688/1688 [==============================] - 4s 3ms/step - loss: 0.2985 - accuracy: 0.9241 - val_loss: 0.2416 - val_accuracy: 0.9422\n",
      "Epoch 7/50\n",
      "1688/1688 [==============================] - 4s 3ms/step - loss: 0.2650 - accuracy: 0.9311 - val_loss: 0.2196 - val_accuracy: 0.9440\n",
      "Epoch 8/50\n",
      "1688/1688 [==============================] - 4s 3ms/step - loss: 0.2392 - accuracy: 0.9371 - val_loss: 0.2054 - val_accuracy: 0.9502\n",
      "Epoch 9/50\n",
      "1688/1688 [==============================] - 4s 3ms/step - loss: 0.2201 - accuracy: 0.9418 - val_loss: 0.1853 - val_accuracy: 0.9560\n",
      "Epoch 10/50\n",
      "1688/1688 [==============================] - 4s 3ms/step - loss: 0.2032 - accuracy: 0.9462 - val_loss: 0.1713 - val_accuracy: 0.9590\n",
      "Epoch 11/50\n",
      "1688/1688 [==============================] - 4s 3ms/step - loss: 0.1884 - accuracy: 0.9494 - val_loss: 0.1600 - val_accuracy: 0.9613\n",
      "Epoch 12/50\n",
      "1688/1688 [==============================] - 4s 3ms/step - loss: 0.1763 - accuracy: 0.9535 - val_loss: 0.1579 - val_accuracy: 0.9583\n",
      "Epoch 13/50\n",
      "1688/1688 [==============================] - 4s 3ms/step - loss: 0.1672 - accuracy: 0.9551 - val_loss: 0.1464 - val_accuracy: 0.9647\n",
      "Epoch 14/50\n",
      "1688/1688 [==============================] - 5s 3ms/step - loss: 0.1554 - accuracy: 0.9589 - val_loss: 0.1427 - val_accuracy: 0.9633\n",
      "Epoch 15/50\n",
      "1688/1688 [==============================] - 4s 3ms/step - loss: 0.1500 - accuracy: 0.9597 - val_loss: 0.1362 - val_accuracy: 0.9647\n",
      "Epoch 16/50\n",
      "1688/1688 [==============================] - 4s 3ms/step - loss: 0.1427 - accuracy: 0.9616 - val_loss: 0.1309 - val_accuracy: 0.9673\n",
      "Epoch 17/50\n",
      "1688/1688 [==============================] - 4s 3ms/step - loss: 0.1393 - accuracy: 0.9626 - val_loss: 0.1311 - val_accuracy: 0.9673\n",
      "Epoch 18/50\n",
      "1688/1688 [==============================] - 4s 3ms/step - loss: 0.1316 - accuracy: 0.9648 - val_loss: 0.1298 - val_accuracy: 0.9667\n",
      "Epoch 19/50\n",
      "1688/1688 [==============================] - 4s 3ms/step - loss: 0.1292 - accuracy: 0.9651 - val_loss: 0.1222 - val_accuracy: 0.9687\n",
      "Epoch 20/50\n",
      "1688/1688 [==============================] - 4s 3ms/step - loss: 0.1264 - accuracy: 0.9666 - val_loss: 0.1249 - val_accuracy: 0.9685\n",
      "Epoch 21/50\n",
      "1688/1688 [==============================] - 4s 3ms/step - loss: 0.1240 - accuracy: 0.9665 - val_loss: 0.1185 - val_accuracy: 0.9700\n",
      "Epoch 22/50\n",
      "1688/1688 [==============================] - 4s 3ms/step - loss: 0.1200 - accuracy: 0.9668 - val_loss: 0.1208 - val_accuracy: 0.9665\n",
      "Epoch 23/50\n",
      "1688/1688 [==============================] - 4s 3ms/step - loss: 0.1183 - accuracy: 0.9673 - val_loss: 0.1161 - val_accuracy: 0.9702\n",
      "Epoch 24/50\n",
      "1688/1688 [==============================] - 4s 3ms/step - loss: 0.1143 - accuracy: 0.9686 - val_loss: 0.1142 - val_accuracy: 0.9712\n",
      "Epoch 25/50\n",
      "1688/1688 [==============================] - 4s 3ms/step - loss: 0.1114 - accuracy: 0.9693 - val_loss: 0.1161 - val_accuracy: 0.9673\n",
      "Epoch 26/50\n",
      "1688/1688 [==============================] - 4s 3ms/step - loss: 0.1123 - accuracy: 0.9692 - val_loss: 0.1099 - val_accuracy: 0.9700\n",
      "Epoch 27/50\n",
      "1688/1688 [==============================] - 4s 3ms/step - loss: 0.1098 - accuracy: 0.9701 - val_loss: 0.1203 - val_accuracy: 0.9643\n",
      "Epoch 28/50\n",
      "1688/1688 [==============================] - 4s 3ms/step - loss: 0.1052 - accuracy: 0.9709 - val_loss: 0.1063 - val_accuracy: 0.9708\n",
      "Epoch 29/50\n",
      "1688/1688 [==============================] - 4s 3ms/step - loss: 0.1021 - accuracy: 0.9718 - val_loss: 0.1078 - val_accuracy: 0.9712\n",
      "Epoch 30/50\n",
      "1688/1688 [==============================] - 4s 3ms/step - loss: 0.1046 - accuracy: 0.9712 - val_loss: 0.1091 - val_accuracy: 0.9678\n",
      "Epoch 31/50\n",
      "1688/1688 [==============================] - 4s 3ms/step - loss: 0.0999 - accuracy: 0.9723 - val_loss: 0.1069 - val_accuracy: 0.9700\n",
      "Epoch 32/50\n",
      "1688/1688 [==============================] - 4s 3ms/step - loss: 0.0979 - accuracy: 0.9734 - val_loss: 0.1077 - val_accuracy: 0.9700\n",
      "Epoch 33/50\n",
      "1688/1688 [==============================] - 5s 3ms/step - loss: 0.0962 - accuracy: 0.9731 - val_loss: 0.1119 - val_accuracy: 0.9693\n",
      "Epoch 34/50\n",
      "1688/1688 [==============================] - 5s 3ms/step - loss: 0.0976 - accuracy: 0.9726 - val_loss: 0.1112 - val_accuracy: 0.9702\n",
      "Epoch 35/50\n",
      "1688/1688 [==============================] - 5s 3ms/step - loss: 0.0941 - accuracy: 0.9738 - val_loss: 0.1016 - val_accuracy: 0.9743\n",
      "Epoch 36/50\n",
      "1688/1688 [==============================] - 4s 3ms/step - loss: 0.0941 - accuracy: 0.9733 - val_loss: 0.1070 - val_accuracy: 0.9693\n",
      "Epoch 37/50\n",
      "1688/1688 [==============================] - 4s 3ms/step - loss: 0.0978 - accuracy: 0.9722 - val_loss: 0.1116 - val_accuracy: 0.9703\n",
      "Epoch 38/50\n",
      "1688/1688 [==============================] - 4s 3ms/step - loss: 0.0962 - accuracy: 0.9726 - val_loss: 0.1075 - val_accuracy: 0.9700\n",
      "Epoch 39/50\n",
      "1688/1688 [==============================] - 4s 3ms/step - loss: 0.0970 - accuracy: 0.9728 - val_loss: 0.1076 - val_accuracy: 0.9700\n",
      "Epoch 40/50\n",
      "1688/1688 [==============================] - 4s 3ms/step - loss: 0.0958 - accuracy: 0.9717 - val_loss: 0.1099 - val_accuracy: 0.9682\n",
      "Epoch 41/50\n",
      "1688/1688 [==============================] - 4s 3ms/step - loss: 0.0960 - accuracy: 0.9724 - val_loss: 0.1098 - val_accuracy: 0.9697\n",
      "Epoch 42/50\n",
      "1688/1688 [==============================] - 4s 3ms/step - loss: 0.0917 - accuracy: 0.9738 - val_loss: 0.1092 - val_accuracy: 0.9708\n",
      "Epoch 43/50\n",
      "1688/1688 [==============================] - 4s 3ms/step - loss: 0.0922 - accuracy: 0.9733 - val_loss: 0.1148 - val_accuracy: 0.9668\n",
      "Epoch 44/50\n",
      "1688/1688 [==============================] - 4s 3ms/step - loss: 0.0943 - accuracy: 0.9722 - val_loss: 0.1073 - val_accuracy: 0.9683\n",
      "Epoch 45/50\n",
      "1688/1688 [==============================] - 4s 3ms/step - loss: 0.0930 - accuracy: 0.9729 - val_loss: 0.1094 - val_accuracy: 0.9685\n",
      "Epoch 46/50\n",
      "1688/1688 [==============================] - 4s 3ms/step - loss: 0.0937 - accuracy: 0.9728 - val_loss: 0.1117 - val_accuracy: 0.9667\n",
      "Epoch 47/50\n",
      "1688/1688 [==============================] - 4s 3ms/step - loss: 0.0952 - accuracy: 0.9721 - val_loss: 0.1127 - val_accuracy: 0.9675\n",
      "Epoch 48/50\n",
      "1688/1688 [==============================] - 4s 3ms/step - loss: 0.0929 - accuracy: 0.9728 - val_loss: 0.1084 - val_accuracy: 0.9672\n",
      "Epoch 49/50\n",
      "1688/1688 [==============================] - 4s 3ms/step - loss: 0.0895 - accuracy: 0.9735 - val_loss: 0.1026 - val_accuracy: 0.9702\n",
      "Epoch 50/50\n",
      "1688/1688 [==============================] - 4s 3ms/step - loss: 0.0865 - accuracy: 0.9743 - val_loss: 0.1097 - val_accuracy: 0.9698\n"
     ]
    },
    {
     "data": {
      "image/png": "[encoded data removed]",
      "text/plain": [
       "<Figure size 432x288 with 2 Axes>"
      ]
     },
     "metadata": {
      "needs_background": "light",
      "tags": []
     },
     "output_type": "display_data"
    },
    {
     "name": "stdout",
     "output_type": "stream",
     "text": [
      "313/313 [==============================] - 1s 2ms/step - loss: 0.1140 - accuracy: 0.9646\n",
      "Test loss: 0.114\n",
      "Test accuracy: 0.965\n"
     ]
    }
   ],
   "source": [
    "history = model_3.fit(train_data, train_labels, batch_size=32, epochs=50, verbose=True, validation_split=0.1)\n",
    "plot_training_history(history, model_3)"
   ]
  },
  {
   "cell_type": "markdown",
   "metadata": {
    "id": "QImBOV8YkC5l"
   },
   "source": [
    "The above network gives an accuracy of 96.5% on the test data as compared to an accuracy of 95.7% of the first network on the test data. The 3 layered network was trained for 50 epochs whereas the first network was trained for 10 epochs."
   ]
  }
 ],
 "metadata": {
  "accelerator": "GPU",
  "colab": {
   "collapsed_sections": [],
   "name": "DL_asignment_1.ipynb",
   "provenance": []
  },
  "kernelspec": {
   "display_name": "Python 3",
   "language": "python",
   "name": "python3"
  },
  "language_info": {
   "codemirror_mode": {
    "name": "ipython",
    "version": 3
   },
   "file_extension": ".py",
   "mimetype": "text/x-python",
   "name": "python",
   "nbconvert_exporter": "python",
   "pygments_lexer": "ipython3",
   "version": "3.8.3"
  }
 },
 "nbformat": 4,
 "nbformat_minor": 1
}
