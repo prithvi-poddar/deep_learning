{
 "cells": [
  {
   "cell_type": "markdown",
   "metadata": {},
   "source": [
    "# Report summarising the various aspects of the submisson and the model tunning process"
   ]
  },
  {
   "cell_type": "markdown",
   "metadata": {},
   "source": [
    "## Prithvi Poddar (17191)"
   ]
  },
  {
   "cell_type": "markdown",
   "metadata": {},
   "source": [
    "This report is also available in python notebook format in the same directory"
   ]
  },
  {
   "cell_type": "markdown",
   "metadata": {},
   "source": [
    "## Structure of the directory"
   ]
  },
  {
   "cell_type": "markdown",
   "metadata": {},
   "source": [
    "This assignment has been structured into various python classes, each purposed to carry out different kinds of tasks. Below, I'm providing a breif overwview of what each class does:"
   ]
  },
  {
   "cell_type": "markdown",
   "metadata": {},
   "source": [
    "### 1. CsvModifier.py"
   ]
  },
  {
   "cell_type": "markdown",
   "metadata": {},
   "source": [
    "For data preprocessing. This contains the classes to modify the csv files of the training and testing datasets for easy access to the data contained in them and to suit the structure of our inference models"
   ]
  },
  {
   "cell_type": "markdown",
   "metadata": {},
   "source": [
    "### 2. polynomial.py"
   ]
  },
  {
   "cell_type": "markdown",
   "metadata": {},
   "source": [
    "This contains the class to create a polynomial basis function for the design matrix"
   ]
  },
  {
   "cell_type": "markdown",
   "metadata": {},
   "source": [
    "### 3. regressor.py"
   ]
  },
  {
   "cell_type": "markdown",
   "metadata": {},
   "source": [
    "This has the classes for linear regression models and bayesian linear regression model"
   ]
  },
  {
   "cell_type": "markdown",
   "metadata": {},
   "source": [
    "### 4. model.py"
   ]
  },
  {
   "cell_type": "markdown",
   "metadata": {},
   "source": [
    "In this python file, I have written the code to test out the 2 models and various basis functions to determine which will perform the best. Hyper parameter tunning has also been performed in this code.\n",
    "The codes in this file have also been executed  in this report below for visualization purposes."
   ]
  },
  {
   "cell_type": "markdown",
   "metadata": {},
   "source": [
    "### 5. inference.py & inference_bayesian.py"
   ]
  },
  {
   "cell_type": "markdown",
   "metadata": {},
   "source": [
    "In these files, I've made the final prediction on the test data, after determining the parameters for both the linear regressor and bayesian linear regressor."
   ]
  },
  {
   "cell_type": "markdown",
   "metadata": {},
   "source": [
    "# Data preprocessing"
   ]
  },
  {
   "cell_type": "markdown",
   "metadata": {},
   "source": [
    "The id values were basically dates in the format of mm/dd/yy.\n",
    "So I had to take the values of the date, month and year separetly and use them as the training parameters."
   ]
  },
  {
   "cell_type": "markdown",
   "metadata": {},
   "source": [
    "Upon inspecting the data, I noticed that all the dates were 1 for both the training and test set. So I dropped the dates and only considered the month and the year values."
   ]
  },
  {
   "cell_type": "markdown",
   "metadata": {},
   "source": [
    "I did not consider scaling the features as they were in reasonable deviations from each other.\n",
    "I made separate classes that create a new csv file which has the data in desirable format."
   ]
  },
  {
   "cell_type": "markdown",
   "metadata": {},
   "source": [
    "# Testing the models and conducting hyperparameter tunning"
   ]
  },
  {
   "cell_type": "code",
   "execution_count": 1,
   "metadata": {},
   "outputs": [],
   "source": [
    "import numpy as np\n",
    "import matplotlib.pyplot as plt\n",
    "import pandas as pd\n",
    "from CsvModifier import (TrainCsvModifier, TestCsvModifier)\n",
    "from regressors import LinearRegression, BayesianLinearRegression\n",
    "from polynomial import PolynomialFeature\n",
    "%matplotlib inline"
   ]
  },
  {
   "cell_type": "code",
   "execution_count": 2,
   "metadata": {},
   "outputs": [],
   "source": [
    "path_train= 'train.csv'\n",
    "new_train = TrainCsvModifier(path_train)\n",
    "new_train.create_new_csv()\n",
    "\n",
    "path_predict = 'test.csv'\n",
    "new_predict = TestCsvModifier(path_predict)\n",
    "new_predict.create_new_csv()"
   ]
  },
  {
   "cell_type": "code",
   "execution_count": 3,
   "metadata": {},
   "outputs": [],
   "source": [
    "data = pd.read_csv('train_new.csv')\n",
    "\n",
    "X = data.iloc[:,:2].to_numpy()\n",
    "y = data.iloc[:,-1:].to_numpy()\n",
    "y = np.reshape(y, (110))"
   ]
  },
  {
   "cell_type": "markdown",
   "metadata": {},
   "source": [
    "First we look at the linear regressor with a linear basis function i.e. just the input parameters with no powers"
   ]
  },
  {
   "cell_type": "markdown",
   "metadata": {},
   "source": [
    "We use a 10:1 train-test set ratio "
   ]
  },
  {
   "cell_type": "code",
   "execution_count": 4,
   "metadata": {},
   "outputs": [],
   "source": [
    "n = 100\n",
    "X_train = X[:n,:]\n",
    "X_train = np.c_[np.ones(len(X_train),dtype='int64'),X_train]\n",
    "y_train = y[:n]\n",
    "X_test = X[n:,:]\n",
    "X_test = np.c_[np.ones(len(X_test),dtype='int64'),X_test]\n",
    "y_test = y[n:]"
   ]
  },
  {
   "cell_type": "code",
   "execution_count": 5,
   "metadata": {},
   "outputs": [
    {
     "name": "stdout",
     "output_type": "stream",
     "text": [
      "Linear Regression errors-\n",
      "Training set error: 85.17021930907777\n",
      "Test set error: 86.90627952371993\n"
     ]
    }
   ],
   "source": [
    "regressor = LinearRegression()\n",
    "train_error, test_error = regressor.fit(X_train,y_train,X_test,y_test)"
   ]
  },
  {
   "cell_type": "markdown",
   "metadata": {},
   "source": [
    "Here we see that the test set error is very high. Thus this is not a suitable model."
   ]
  },
  {
   "cell_type": "markdown",
   "metadata": {},
   "source": [
    "Next we try the linear regressor with a polynomial basis function and we do hyper parameter tunning on the degree of the polynomial to choose"
   ]
  },
  {
   "cell_type": "code",
   "execution_count": 11,
   "metadata": {},
   "outputs": [
    {
     "name": "stdout",
     "output_type": "stream",
     "text": [
      "Linear Regression errors-\n",
      "Training set error: 85.17021930907777\n",
      "Test set error: 86.90627952371993\n",
      "Linear Regression errors-\n",
      "Training set error: 27.84850415991151\n",
      "Test set error: 27.740813851489627\n",
      "Linear Regression errors-\n",
      "Training set error: 14.55145220107541\n",
      "Test set error: 11.228441393679644\n",
      "Linear Regression errors-\n",
      "Training set error: 7.974130951437643\n",
      "Test set error: 4.364937085428666\n",
      "Linear Regression errors-\n",
      "Training set error: 6.4434594481992065\n",
      "Test set error: 2.829202977971513\n",
      "Linear Regression errors-\n",
      "Training set error: 6.193884820342053\n",
      "Test set error: 2.5755389784353557\n",
      "Linear Regression errors-\n",
      "Training set error: 6.157558429297052\n",
      "Test set error: 2.4919112783508317\n",
      "Linear Regression errors-\n",
      "Training set error: 6.130918591044329\n",
      "Test set error: 2.687982301344684\n",
      "Linear Regression errors-\n",
      "Training set error: 6.112304807968683\n",
      "Test set error: 3.1193628105797027\n",
      "Linear Regression errors-\n",
      "Training set error: 6.086009743029291\n",
      "Test set error: 2.900467310351304\n",
      "Linear Regression errors-\n",
      "Training set error: 6.086107780640705\n",
      "Test set error: 3.0074795156699965\n",
      "Linear Regression errors-\n",
      "Training set error: 6.131361267753748\n",
      "Test set error: 2.5816349848174123\n",
      "Linear Regression errors-\n",
      "Training set error: 6.128655666905139\n",
      "Test set error: 2.759296074214697\n",
      "Linear Regression errors-\n",
      "Training set error: 6.163304260940391\n",
      "Test set error: 2.9781876396023503\n"
     ]
    },
    {
     "data": {
      "image/png": "[encoded data removed]",
      "text/plain": [
       "<Figure size 432x288 with 1 Axes>"
      ]
     },
     "metadata": {
      "needs_background": "light"
     },
     "output_type": "display_data"
    }
   ],
   "source": [
    "training_errors = []\n",
    "test_errors = []\n",
    "n = 100\n",
    "X_train = X[:n,:]\n",
    "X_train = np.c_[np.ones(len(X_train),dtype='int64'),X_train]\n",
    "y_train = y[:n]\n",
    "X_test = X[n:,:] \n",
    "X_test = np.c_[np.ones(len(X_test),dtype='int64'),X_test]\n",
    "y_test = y[n:]\n",
    "\n",
    "regressor = LinearRegression()\n",
    "\n",
    "for i in range(1,15):\n",
    "    feature = PolynomialFeature(i)\n",
    "    X_train = feature.transform(X_train)\n",
    "    X_test = feature.transform(X_test)\n",
    "    error1, error2 = regressor.fit(X_train,y_train,X_test,y_test)\n",
    "    training_errors.append(error1)\n",
    "    test_errors.append(error2)\n",
    "    \n",
    "plt.plot(training_errors, 'o-', mfc=\"none\", mec=\"b\", ms=10, c=\"b\", label=\"Training\")\n",
    "plt.plot(test_errors, 'o-', mfc=\"none\", mec=\"r\", ms=10, c=\"r\", label=\"Test\")\n",
    "plt.legend()\n",
    "plt.xlabel(\"degree - 1\")\n",
    "plt.ylabel(\"MSE\")\n",
    "plt.show()"
   ]
  },
  {
   "cell_type": "markdown",
   "metadata": {},
   "source": [
    "We can see that the polynomial basis performs significantly better. From the error graph, we can see that degree 5 is a reasonable choice."
   ]
  },
  {
   "cell_type": "markdown",
   "metadata": {},
   "source": [
    "Next we check the bayesian linear regressor with polynomial basis function while performing hyper parameter tunning on the degree of the polynomial"
   ]
  },
  {
   "cell_type": "code",
   "execution_count": 14,
   "metadata": {},
   "outputs": [
    {
     "name": "stdout",
     "output_type": "stream",
     "text": [
      "Bayesian Linear Regression errors-\n",
      "Training set error: 85.33271310844319\n",
      "Test set error: 83.5450865774803\n",
      "Bayesian Linear Regression errors-\n",
      "Training set error: 27.95576098359475\n",
      "Test set error: 27.87011036988999\n",
      "Bayesian Linear Regression errors-\n",
      "Training set error: 14.612695977136639\n",
      "Test set error: 11.60292547089241\n",
      "Bayesian Linear Regression errors-\n",
      "Training set error: 8.280816515063648\n",
      "Test set error: 4.234331982349376\n",
      "Bayesian Linear Regression errors-\n",
      "Training set error: 6.603788920975712\n",
      "Test set error: 2.907029215707048\n",
      "Bayesian Linear Regression errors-\n",
      "Training set error: 6.303562793368843\n",
      "Test set error: 2.7998644377490587\n",
      "Bayesian Linear Regression errors-\n",
      "Training set error: 179.50032667536914\n",
      "Test set error: 235.541012201334\n"
     ]
    },
    {
     "data": {
      "image/png": "[encoded data removed]",
      "text/plain": [
       "<Figure size 432x288 with 1 Axes>"
      ]
     },
     "metadata": {
      "needs_background": "light"
     },
     "output_type": "display_data"
    }
   ],
   "source": [
    "training_errors = []\n",
    "test_errors = []\n",
    "n = 100\n",
    "X_train = X[:n,:]\n",
    "X_train = np.c_[np.ones(len(X_train),dtype='int64'),X_train]\n",
    "y_train = y[:n]\n",
    "X_test = X[n:,:] \n",
    "X_test = np.c_[np.ones(len(X_test),dtype='int64'),X_test]\n",
    "y_test = y[n:]\n",
    "\n",
    "regressor = BayesianLinearRegression(1,10)\n",
    "\n",
    "for i in range(1,8):\n",
    "    feature = PolynomialFeature(i)\n",
    "    X_train = feature.transform(X_train)\n",
    "    X_test = feature.transform(X_test)\n",
    "    error1, error2 = regressor.fit(X_train,y_train,X_test,y_test)\n",
    "    training_errors.append(error1)\n",
    "    test_errors.append(error2)\n",
    "    \n",
    "plt.plot(training_errors, 'o-', mfc=\"none\", mec=\"b\", ms=10, c=\"b\", label=\"Training\")\n",
    "plt.plot(test_errors, 'o-', mfc=\"none\", mec=\"r\", ms=10, c=\"r\", label=\"Test\")\n",
    "plt.legend()\n",
    "plt.xlabel(\"degree - 1\")\n",
    "plt.ylabel(\"MSE\")\n",
    "plt.show()"
   ]
  },
  {
   "cell_type": "markdown",
   "metadata": {},
   "source": [
    "Thus we can see that degree 6 is the best chooice as at degree 7, the errors blow up"
   ]
  },
  {
   "cell_type": "markdown",
   "metadata": {},
   "source": [
    "Next we run hyper parameter tunning on the mean of the bayesian regressor"
   ]
  },
  {
   "cell_type": "code",
   "execution_count": 16,
   "metadata": {},
   "outputs": [
    {
     "name": "stdout",
     "output_type": "stream",
     "text": [
      "Bayesian Linear Regression errors-\n",
      "Training set error: 6.362760219572716\n",
      "Test set error: 2.384752251188859\n",
      "Bayesian Linear Regression errors-\n",
      "Training set error: 273.4510379153951\n",
      "Test set error: 340.58836549845523\n",
      "Bayesian Linear Regression errors-\n",
      "Training set error: 114.99569429074617\n",
      "Test set error: 77.19670132248027\n",
      "Bayesian Linear Regression errors-\n",
      "Training set error: 33.77944552714239\n",
      "Test set error: 20.179811298276142\n",
      "Bayesian Linear Regression errors-\n",
      "Training set error: 248.20300046951292\n",
      "Test set error: 343.8576789517111\n",
      "Bayesian Linear Regression errors-\n",
      "Training set error: 19.954416930581473\n",
      "Test set error: 12.15130620009812\n",
      "Bayesian Linear Regression errors-\n",
      "Training set error: 33.05638700422219\n",
      "Test set error: 23.67843722393067\n",
      "Bayesian Linear Regression errors-\n",
      "Training set error: 626.1674195439583\n",
      "Test set error: 993.7817918028475\n",
      "Bayesian Linear Regression errors-\n",
      "Training set error: 429.5653080533668\n",
      "Test set error: 405.4001430407056\n",
      "Bayesian Linear Regression errors-\n",
      "Training set error: 603.0325032909444\n",
      "Test set error: 691.9124379245619\n"
     ]
    },
    {
     "data": {
      "image/png": "[encoded data removed]",
      "text/plain": [
       "<Figure size 432x288 with 1 Axes>"
      ]
     },
     "metadata": {
      "needs_background": "light"
     },
     "output_type": "display_data"
    }
   ],
   "source": [
    "training_errors = []\n",
    "test_errors = []\n",
    "n = 100\n",
    "X_train = X[:n,:]\n",
    "X_train = np.c_[np.ones(len(X_train),dtype='int64'),X_train]\n",
    "y_train = y[:n]\n",
    "X_test = X[n:,:] \n",
    "X_test = np.c_[np.ones(len(X_test),dtype='int64'),X_test]\n",
    "y_test = y[n:]\n",
    "\n",
    "\n",
    "\n",
    "for i in range(0,10):\n",
    "    regressor = BayesianLinearRegression(i,10)\n",
    "    feature = PolynomialFeature(6)\n",
    "    X_train = feature.transform(X_train)\n",
    "    X_test = feature.transform(X_test)\n",
    "    error1, error2 = regressor.fit(X_train,y_train,X_test,y_test)\n",
    "    training_errors.append(error1)\n",
    "    test_errors.append(error2)\n",
    "    \n",
    "plt.plot(training_errors, 'o-', mfc=\"none\", mec=\"b\", ms=10, c=\"b\", label=\"Training\")\n",
    "plt.plot(test_errors, 'o-', mfc=\"none\", mec=\"r\", ms=10, c=\"r\", label=\"Test\")\n",
    "plt.legend()\n",
    "plt.xlabel(\"degree - 1\")\n",
    "plt.ylabel(\"MSE\")\n",
    "plt.show()"
   ]
  },
  {
   "cell_type": "markdown",
   "metadata": {},
   "source": [
    "Thus it turns out that we should go with mean = 0"
   ]
  },
  {
   "cell_type": "markdown",
   "metadata": {},
   "source": [
    "# Final predictions"
   ]
  },
  {
   "cell_type": "markdown",
   "metadata": {},
   "source": [
    "## 1. Linear regressor with polynomial basis of degree 5"
   ]
  },
  {
   "cell_type": "code",
   "execution_count": 21,
   "metadata": {},
   "outputs": [
    {
     "name": "stdout",
     "output_type": "stream",
     "text": [
      "Linear Regression errors-\n",
      "Training set error: 6.443459448199203\n",
      "Test set error: 2.82920297920196\n"
     ]
    }
   ],
   "source": [
    "import numpy as np\n",
    "import matplotlib.pyplot as plt\n",
    "import pandas as pd\n",
    "from CsvModifier import (TrainCsvModifier, TestCsvModifier)\n",
    "from regressors import LinearRegression\n",
    "from polynomial import PolynomialFeature\n",
    "\n",
    "path_train= 'train.csv'\n",
    "new_train = TrainCsvModifier(path_train)\n",
    "new_train.create_new_csv()\n",
    "\n",
    "path_predict = 'test.csv'\n",
    "new_predict = TestCsvModifier(path_predict)\n",
    "new_predict.create_new_csv()\n",
    "\n",
    "data = pd.read_csv('train_new.csv')\n",
    "\n",
    "X = data.iloc[:,:2].to_numpy()\n",
    "y = data.iloc[:,-1:].to_numpy()\n",
    "y = np.reshape(y, (110))\n",
    "\n",
    "n = 100\n",
    "X_train = X[:n,:]\n",
    "X_train = np.c_[np.ones(len(X_train),dtype='int64'),X_train]\n",
    "\n",
    "y_train = y[:n]\n",
    "\n",
    "X_test = X[n:,:] \n",
    "X_test = np.c_[np.ones(len(X_test),dtype='int64'),X_test]\n",
    "\n",
    "y_test = y[n:]\n",
    "\n",
    "feature = PolynomialFeature(5)\n",
    "X_train = feature.transform(X_train)\n",
    "X_test = feature.transform(X_test)\n",
    "\n",
    "regressor = LinearRegression()\n",
    "error1, error2 = regressor.fit(X_train,y_train,X_test,y_test)\n",
    "\n",
    "pred = pd.read_csv('test_new.csv')\n",
    "X_pred = pred.iloc[:,:].to_numpy()\n",
    "X_pred = np.c_[np.ones(len(X_pred),dtype='int64'),X_pred]\n",
    "X_pred = feature.transform(X_pred)\n",
    "prediction = regressor.predict(X_pred)\n",
    "\n",
    "result = pd.read_csv('test.csv')\n",
    "ids = result['id']\n",
    "final = {'id':ids, 'value':prediction}\n",
    "df = pd.DataFrame(final)\n",
    "df.to_csv (r'Prithvi_17191_prediction.csv', index = False, header=True)"
   ]
  },
  {
   "cell_type": "markdown",
   "metadata": {},
   "source": [
    "## 2. Bayesian Regressor with polynomial basis of degree 6 and mean = 0 and variance = 10"
   ]
  },
  {
   "cell_type": "code",
   "execution_count": 22,
   "metadata": {},
   "outputs": [
    {
     "name": "stdout",
     "output_type": "stream",
     "text": [
      "Bayesian Linear Regression errors-\n",
      "Training set error: 6.210592000475085\n",
      "Test set error: 2.9641013656511768\n"
     ]
    }
   ],
   "source": [
    "import numpy as np\n",
    "import matplotlib.pyplot as plt\n",
    "import pandas as pd\n",
    "from CsvModifier import (TrainCsvModifier, TestCsvModifier)\n",
    "from regressors import BayesianLinearRegression\n",
    "from polynomial import PolynomialFeature\n",
    "\n",
    "path_train= 'train.csv'\n",
    "new_train = TrainCsvModifier(path_train)\n",
    "new_train.create_new_csv()\n",
    "\n",
    "path_predict = 'test.csv'\n",
    "new_predict = TestCsvModifier(path_predict)\n",
    "new_predict.create_new_csv()\n",
    "\n",
    "data = pd.read_csv('train_new.csv')\n",
    "\n",
    "X = data.iloc[:,:2].to_numpy()\n",
    "y = data.iloc[:,-1:].to_numpy()\n",
    "y = np.reshape(y, (110))\n",
    "\n",
    "n = 100\n",
    "X_train = X[:n,:]\n",
    "X_train = np.c_[np.ones(len(X_train),dtype='int64'),X_train]\n",
    "\n",
    "y_train = y[:n]\n",
    "\n",
    "X_test = X[n:,:] \n",
    "X_test = np.c_[np.ones(len(X_test),dtype='int64'),X_test]\n",
    "\n",
    "y_test = y[n:]\n",
    "\n",
    "feature = PolynomialFeature(6)\n",
    "X_train = feature.transform(X_train)\n",
    "X_test = feature.transform(X_test)\n",
    "\n",
    "regressor = BayesianLinearRegression(0,10)\n",
    "error1, error2 = regressor.fit(X_train,y_train,X_test,y_test)\n",
    "\n",
    "pred = pd.read_csv('test_new.csv')\n",
    "X_pred = pred.iloc[:,:].to_numpy()\n",
    "X_pred = np.c_[np.ones(len(X_pred),dtype='int64'),X_pred]\n",
    "X_pred = feature.transform(X_pred)\n",
    "prediction = regressor.predict(X_pred)\n",
    "\n",
    "result = pd.read_csv('test.csv')\n",
    "ids = result['id']\n",
    "final = {'id':ids, 'value':prediction}\n",
    "df = pd.DataFrame(final)\n",
    "df.to_csv (r'Prithvi_17191_prediction3.csv', index = False, header=True)"
   ]
  },
  {
   "cell_type": "markdown",
   "metadata": {},
   "source": [
    "## The final csv files with the predictions get saved in the working directory"
   ]
  }
 ],
 "metadata": {
  "kernelspec": {
   "display_name": "Python 3",
   "language": "python",
   "name": "python3"
  },
  "language_info": {
   "codemirror_mode": {
    "name": "ipython",
    "version": 3
   },
   "file_extension": ".py",
   "mimetype": "text/x-python",
   "name": "python",
   "nbconvert_exporter": "python",
   "pygments_lexer": "ipython3",
   "version": "3.7.4"
  }
 },
 "nbformat": 4,
 "nbformat_minor": 2
}
